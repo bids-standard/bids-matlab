{
 "cells": [
  {
   "cell_type": "code",
   "execution_count": 21,
   "metadata": {},
   "outputs": [],
   "source": [
    "% Parse BIDS directory\n",
    "BIDS = bids.layout(fullfile(pwd,'bids-examples','ds007'));"
   ]
  },
  {
   "cell_type": "code",
   "execution_count": 22,
   "metadata": {},
   "outputs": [
    {
     "name": "stdout",
     "output_type": "stream",
     "text": [
      "ans = \r\n",
      "{\r\n",
      "  [1,1] = 01\r\n",
      "  [1,2] = 02\r\n",
      "  [1,3] = 03\r\n",
      "  [1,4] = 04\r\n",
      "  [1,5] = 05\r\n",
      "  [1,6] = 06\r\n",
      "  [1,7] = 07\r\n",
      "  [1,8] = 08\r\n",
      "  [1,9] = 09\r\n",
      "  [1,10] = 10\r\n",
      "  [1,11] = 11\r\n",
      "  [1,12] = 12\r\n",
      "  [1,13] = 13\r\n",
      "  [1,14] = 14\r\n",
      "  [1,15] = 15\r\n",
      "  [1,16] = 16\r\n",
      "  [1,17] = 17\r\n",
      "  [1,18] = 18\r\n",
      "  [1,19] = 19\r\n",
      "  [1,20] = 20\r\n",
      "}\r\n"
     ]
    }
   ],
   "source": [
    "% Make general queries about the dataset\n",
    "bids.query(BIDS,'subjects')"
   ]
  },
  {
   "cell_type": "code",
   "execution_count": 23,
   "metadata": {},
   "outputs": [
    {
     "name": "stdout",
     "output_type": "stream",
     "text": [
      "ans = {}(1x0)\r\n"
     ]
    }
   ],
   "source": [
    "bids.query(BIDS,'sessions')"
   ]
  },
  {
   "cell_type": "code",
   "execution_count": 24,
   "metadata": {},
   "outputs": [
    {
     "name": "stdout",
     "output_type": "stream",
     "text": [
      "ans = \r\n",
      "{\r\n",
      "  [1,1] = 01\r\n",
      "  [1,2] = 02\r\n",
      "}\r\n"
     ]
    }
   ],
   "source": [
    "bids.query(BIDS,'runs')"
   ]
  },
  {
   "cell_type": "code",
   "execution_count": 25,
   "metadata": {},
   "outputs": [
    {
     "name": "stdout",
     "output_type": "stream",
     "text": [
      "ans = \r\n",
      "{\r\n",
      "  [1,1] = stopsignalwithletternaming\r\n",
      "  [1,2] = stopsignalwithmanualresponse\r\n",
      "  [1,3] = stopsignalwithpseudowordnaming\r\n",
      "}\r\n"
     ]
    }
   ],
   "source": [
    "bids.query(BIDS,'tasks')"
   ]
  },
  {
   "cell_type": "code",
   "execution_count": 26,
   "metadata": {},
   "outputs": [
    {
     "name": "stdout",
     "output_type": "stream",
     "text": [
      "ans = \r\n",
      "{\r\n",
      "  [1,1] = T1w\r\n",
      "  [1,2] = bold\r\n",
      "  [1,3] = events\r\n",
      "  [1,4] = inplaneT2\r\n",
      "}\r\n"
     ]
    }
   ],
   "source": [
    "bids.query(BIDS,'types')"
   ]
  },
  {
   "cell_type": "code",
   "execution_count": 27,
   "metadata": {},
   "outputs": [
    {
     "name": "stdout",
     "output_type": "stream",
     "text": [
      "ans = \r\n",
      "{\r\n",
      "  [1,1] = anat\r\n",
      "  [1,2] = func\r\n",
      "}\r\n"
     ]
    }
   ],
   "source": [
    "bids.query(BIDS,'modalities')"
   ]
  },
  {
   "cell_type": "code",
   "execution_count": 28,
   "metadata": {},
   "outputs": [
    {
     "name": "stdout",
     "output_type": "stream",
     "text": [
      "ans = {}(1x0)\r\n"
     ]
    }
   ],
   "source": [
    "% Make more specific queries\n",
    "bids.query(BIDS,'runs','type','T1w')"
   ]
  },
  {
   "cell_type": "code",
   "execution_count": 29,
   "metadata": {},
   "outputs": [
    {
     "name": "stdout",
     "output_type": "stream",
     "text": [
      "ans = \r\n",
      "{\r\n",
      "  [1,1] = 01\r\n",
      "  [1,2] = 02\r\n",
      "}\r\n"
     ]
    }
   ],
   "source": [
    "bids.query(BIDS,'runs','type','bold')"
   ]
  },
  {
   "cell_type": "code",
   "execution_count": 30,
   "metadata": {},
   "outputs": [
    {
     "name": "stdout",
     "output_type": "stream",
     "text": [
      "ans = \r\n",
      "{\r\n",
      "  [1,1] = /home/jovyan/examples/bids-examples/ds007/sub-05/func/sub-05_task-stopsignalwithmanualresponse_run-02_bold.nii.gz\r\n",
      "}\r\n"
     ]
    }
   ],
   "source": [
    "% Get the NIfTI file for subject '05', run '02' and task 'stopsignalwithmanualresponse':\n",
    "bids.query(BIDS,'data','sub','05','run','02','task','stopsignalwithmanualresponse','type','bold')"
   ]
  },
  {
   "cell_type": "code",
   "execution_count": 31,
   "metadata": {},
   "outputs": [
    {
     "name": "stdout",
     "output_type": "stream",
     "text": [
      "ans =\r\n",
      "\r\n",
      "  scalar structure containing the fields:\r\n",
      "\r\n",
      "    RepetitionTime =  2\r\n",
      "    TaskName = stop signal with manual response\r\n",
      "\r\n"
     ]
    }
   ],
   "source": [
    "% and corresponding metadata, including TR:\n",
    "bids.query(BIDS,'metadata','sub','05','run','02','task','stopsignalwithmanualresponse','type','bold')"
   ]
  },
  {
   "cell_type": "code",
   "execution_count": 32,
   "metadata": {},
   "outputs": [
    {
     "name": "stdout",
     "output_type": "stream",
     "text": [
      "ans = \r\n",
      "{\r\n",
      "  [1,1] = /home/jovyan/examples/bids-examples/ds007/sub-01/anat/sub-01_T1w.nii.gz\r\n",
      "  [2,1] = /home/jovyan/examples/bids-examples/ds007/sub-02/anat/sub-02_T1w.nii.gz\r\n",
      "  [3,1] = /home/jovyan/examples/bids-examples/ds007/sub-03/anat/sub-03_T1w.nii.gz\r\n",
      "  [4,1] = /home/jovyan/examples/bids-examples/ds007/sub-04/anat/sub-04_T1w.nii.gz\r\n",
      "  [5,1] = /home/jovyan/examples/bids-examples/ds007/sub-05/anat/sub-05_T1w.nii.gz\r\n",
      "  [6,1] = /home/jovyan/examples/bids-examples/ds007/sub-06/anat/sub-06_T1w.nii.gz\r\n",
      "  [7,1] = /home/jovyan/examples/bids-examples/ds007/sub-07/anat/sub-07_T1w.nii.gz\r\n",
      "  [8,1] = /home/jovyan/examples/bids-examples/ds007/sub-08/anat/sub-08_T1w.nii.gz\r\n",
      "  [9,1] = /home/jovyan/examples/bids-examples/ds007/sub-09/anat/sub-09_T1w.nii.gz\r\n",
      "  [10,1] = /home/jovyan/examples/bids-examples/ds007/sub-10/anat/sub-10_T1w.nii.gz\r\n",
      "  [11,1] = /home/jovyan/examples/bids-examples/ds007/sub-11/anat/sub-11_T1w.nii.gz\r\n",
      "  [12,1] = /home/jovyan/examples/bids-examples/ds007/sub-12/anat/sub-12_T1w.nii.gz\r\n",
      "  [13,1] = /home/jovyan/examples/bids-examples/ds007/sub-13/anat/sub-13_T1w.nii.gz\r\n",
      "  [14,1] = /home/jovyan/examples/bids-examples/ds007/sub-14/anat/sub-14_T1w.nii.gz\r\n",
      "  [15,1] = /home/jovyan/examples/bids-examples/ds007/sub-15/anat/sub-15_T1w.nii.gz\r\n",
      "  [16,1] = /home/jovyan/examples/bids-examples/ds007/sub-16/anat/sub-16_T1w.nii.gz\r\n",
      "  [17,1] = /home/jovyan/examples/bids-examples/ds007/sub-17/anat/sub-17_T1w.nii.gz\r\n",
      "  [18,1] = /home/jovyan/examples/bids-examples/ds007/sub-18/anat/sub-18_T1w.nii.gz\r\n",
      "  [19,1] = /home/jovyan/examples/bids-examples/ds007/sub-19/anat/sub-19_T1w.nii.gz\r\n",
      "  [20,1] = /home/jovyan/examples/bids-examples/ds007/sub-20/anat/sub-20_T1w.nii.gz\r\n",
      "}\r\n"
     ]
    }
   ],
   "source": [
    "% Get the T1-weighted images from all subjects:\n",
    "bids.query(BIDS,'data','type','T1w')"
   ]
  }
 ],
 "metadata": {
  "kernelspec": {
   "display_name": "Octave",
   "language": "octave",
   "name": "octave"
  },
  "language_info": {
   "file_extension": ".m",
   "help_links": [
    {
     "text": "GNU Octave",
     "url": "https://www.gnu.org/software/octave/support.html"
    },
    {
     "text": "Octave Kernel",
     "url": "https://github.com/Calysto/octave_kernel"
    },
    {
     "text": "MetaKernel Magics",
     "url": "https://metakernel.readthedocs.io/en/latest/source/README.html"
    }
   ],
   "mimetype": "text/x-octave",
   "name": "octave",
   "version": "4.2.2"
  }
 },
 "nbformat": 4,
 "nbformat_minor": 2
}
