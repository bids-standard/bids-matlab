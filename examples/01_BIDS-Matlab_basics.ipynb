{
 "cells": [
  {
   "cell_type": "markdown",
   "metadata": {
    "tags": []
   },
   "source": [
    "# BIDS-Matlab: basics\n",
    "\n",
    "1. [Indexing a dataset](#Indexing-a-dataset)\n",
    "1. [Querying a dataset](#Querying-a-dataset)\n",
    "  1. [Get filenames](#Get-filenames)\n",
    "  1. [Get metadata](#Get-metadata)\n",
    "  1. [Get \"dependencies\" of a given file](#Get-\"dependencies\"-of-a-given-file)  \n",
    " "
   ]
  },
  {
   "cell_type": "code",
   "execution_count": 24,
   "metadata": {},
   "outputs": [],
   "source": [
    "% add bids-matlab to path\n",
    "addpath(fullfile(pwd, '..'));"
   ]
  },
  {
   "cell_type": "markdown",
   "metadata": {},
   "source": [
    "We will work with the \"empty\" dataset from the bids-examples repository : https://github.com/bids-standard/bids-examples"
   ]
  },
  {
   "cell_type": "markdown",
   "metadata": {},
   "source": [
    "We use a bit of command line magic to view the top (`head`) directories (`-d`) at a certain level depth (`-L 2`)."
   ]
  },
  {
   "cell_type": "markdown",
   "metadata": {},
   "source": [
    "Let's work on the `ds101` dataset."
   ]
  },
  {
   "cell_type": "code",
   "execution_count": 25,
   "metadata": {
    "scrolled": true
   },
   "outputs": [
    {
     "name": "stdout",
     "output_type": "stream",
     "text": [
      "bids-examples/ds101\n",
      "├── sub-01\n",
      "│   ├── anat\n",
      "│   └── func\n",
      "├── sub-02\n",
      "│   ├── anat\n",
      "│   └── func\n",
      "├── sub-03\n",
      "│   ├── anat\n",
      "│   └── func\n",
      "\n"
     ]
    }
   ],
   "source": [
    "!tree bids-examples/ds101 -d -L 2 | head"
   ]
  },
  {
   "cell_type": "markdown",
   "metadata": {},
   "source": [
    "## Indexing a dataset\n",
    "\n",
    "This is done with the `bids.layout` function."
   ]
  },
  {
   "cell_type": "code",
   "execution_count": 26,
   "metadata": {},
   "outputs": [
    {
     "name": "stdout",
     "output_type": "stream",
     "text": [
      "\n",
      "\n",
      " Parse a directory structure formated according to the BIDS standard\n",
      "\n",
      " USAGE::\n",
      "\n",
      "   BIDS = bids.layout(pwd, ...\n",
      "                      'use_schema', true, ...\n",
      "                      'index_derivatives', false, ...\n",
      "                      'tolerant', true, ...\n",
      "                      'verbose', false)\n",
      "\n",
      " :param root:       directory of the dataset formated according to BIDS\n",
      "                    [default: ``pwd``]\n",
      " :type  root:       string\n",
      "\n",
      " :param use_schema: If set to ``true``, the parsing of the dataset\n",
      "                    will follow the bids-schema provided with bids-matlab.\n",
      "                    If set to ``false`` files just have to be of the form\n",
      "                    ``sub-label_[entity-label]_suffix.ext`` to be parsed.\n",
      "                    If a folder path is provided, then the schema contained\n",
      "                    in that folder will be used for parsing.\n",
      " :type  use_schema: boolean\n",
      "\n",
      " :param index_derivatives: if ``true`` this will index the content of the\n",
      "                           any ``derivatives`` folder in the BIDS dataset.\n",
      " :type  index_derivatives: boolean\n",
      "\n",
      " :param tolerant: Set to ``true`` to turn validation errors into warnings\n",
      " :type  tolerant: boolean\n",
      "\n",
      " :param verbose: Set to ``true`` to get more feedback\n",
      " :type  verbose: boolean\n",
      "\n",
      "\n",
      " (C) Copyright 2016-2018 Guillaume Flandin, Wellcome Centre for Human Neuroimaging\n",
      "\n",
      " (C) Copyright 2018 BIDS-MATLAB developers\n",
      "\n",
      "\n",
      "Additional help for built-in functions and operators is\n",
      "available in the online version of the manual.  Use the command\n",
      "'doc <topic>' to search the manual index.\n",
      "\n",
      "Help and information about Octave is also available on the WWW\n",
      "at http://www.octave.org and via the help@octave.org\n",
      "mailing list.\n"
     ]
    }
   ],
   "source": [
    "help bids.layout"
   ]
  },
  {
   "cell_type": "code",
   "execution_count": 27,
   "metadata": {
    "scrolled": true
   },
   "outputs": [],
   "source": [
    "BIDS = bids.layout(fullfile(pwd,'bids-examples','ds101'));"
   ]
  },
  {
   "cell_type": "markdown",
   "metadata": {},
   "source": [
    "## Querying a dataset\n",
    "\n",
    "Make general queries about the dataset are with `bids.query` made on the layout returned by `bids.layout`."
   ]
  },
  {
   "cell_type": "code",
   "execution_count": 28,
   "metadata": {},
   "outputs": [
    {
     "name": "stdout",
     "output_type": "stream",
     "text": [
      "\n",
      "\n",
      " Queries a directory structure formatted according to the BIDS standard\n",
      "\n",
      " USAGE::\n",
      "\n",
      "   result = bids.query(BIDS, query, ...)\n",
      "\n",
      " :param BIDS: BIDS directory name or BIDS structure (from bids.layout)\n",
      " :type  BIDS: strcuture or string\n",
      " :param query: type of query (see list below)\n",
      " :type  query: string\n",
      "\n",
      " Type of query allowed:\n",
      "\n",
      "     - ``'sessions'``\n",
      "     - ``'subjects'``\n",
      "     - ``'modalities'``\n",
      "     - ``'tasks'``\n",
      "     - ``'runs'``\n",
      "     - ``'suffixes'``\n",
      "     - ``'entities'``\n",
      "     - ``'data'``\n",
      "     - ``'metadata'``\n",
      "     - ``'metafiles'``\n",
      "     - ``'dependencies'``\n",
      "     - ``'extensions'``\n",
      "     - ``'prefixes'``\n",
      "\n",
      "\n",
      " .. warning:: Note that all the query types are plurals.\n",
      "\n",
      " Queries can \"filtered\" by passing more arguments key-value pairs as a list of\n",
      " strings or as a cell or a structure.\n",
      "\n",
      " Note that for the entities listed below can be queried using integers:\n",
      "\n",
      "     - ``'run'``\n",
      "     - ``'flip'``\n",
      "     - ``'inv'``\n",
      "     - ``'split'``\n",
      "     - ``'echo'``\n",
      "\n",
      " It is also possible to use regular expressions in the value.\n",
      "\n",
      "  Regex example::\n",
      "\n",
      "     % The following 2 will return the same thing\n",
      "     data = bids.query(BIDS, 'data', 'sub', '01')\n",
      "     data = bids.query(BIDS, 'data', 'sub', '^01$')\n",
      "\n",
      "     % But the following would return all the data for all subjects\n",
      "     % whose label ends in '01'\n",
      "     data = bids.query(BIDS, 'data', 'sub', '.*01')\n",
      "\n",
      " ---\n",
      "\n",
      " Example 1::\n",
      "\n",
      "    data = bids.query(BIDS, 'data', ...\n",
      "                            'sub', '01', ...\n",
      "                            'task', 'stopsignalwithpseudowordnaming', ...\n",
      "                            'run', 1:5, ...\n",
      "                            'extension', '.nii.gz', ...\n",
      "                            'suffix', 'bold');\n",
      "\n",
      "\n",
      " Example 2::\n",
      "\n",
      "     filters = struct('sub', '01', ...\n",
      "                      'task', 'stopsignalwithpseudowordnaming', ...\n",
      "                      'run', 1:5, ...\n",
      "                      'extension', '.nii.gz', ...\n",
      "                      'suffix', 'bold');\n",
      "\n",
      "     data = bids.query(BIDS, 'data', filters);\n",
      "\n",
      "\n",
      " Example 3::\n",
      "\n",
      "     filters = {'sub', '0[1-5]'; ...\n",
      "                'task', 'stopsignal.*'; ...\n",
      "                'run', 1:5; ...\n",
      "                'extension', '.nii.*'; ...\n",
      "                'suffix', 'bold'};\n",
      "\n",
      "     data = bids.query(BIDS, 'data', filters);\n",
      "\n",
      "\n",
      " (C) Copyright 2016-2018 Guillaume Flandin, Wellcome Centre for Human Neuroimaging\n",
      "\n",
      " (C) Copyright 2018 BIDS-MATLAB developers\n",
      "\n",
      "\n",
      "Additional help for built-in functions and operators is\n",
      "available in the online version of the manual.  Use the command\n",
      "'doc <topic>' to search the manual index.\n",
      "\n",
      "Help and information about Octave is also available on the WWW\n",
      "at http://www.octave.org and via the help@octave.org\n",
      "mailing list.\n"
     ]
    }
   ],
   "source": [
    "help bids.query"
   ]
  },
  {
   "cell_type": "code",
   "execution_count": 29,
   "metadata": {},
   "outputs": [
    {
     "name": "stdout",
     "output_type": "stream",
     "text": [
      "ans = \n",
      "{\n",
      "  [1,1] = run\n",
      "  [2,1] = sub\n",
      "  [3,1] = task\n",
      "}\n"
     ]
    }
   ],
   "source": [
    "bids.query(BIDS, 'entities')"
   ]
  },
  {
   "cell_type": "code",
   "execution_count": 30,
   "metadata": {},
   "outputs": [
    {
     "name": "stdout",
     "output_type": "stream",
     "text": [
      "ans = \n",
      "{\n",
      "  [1,1] = 01\n",
      "  [1,2] = 02\n",
      "  [1,3] = 03\n",
      "  [1,4] = 04\n",
      "  [1,5] = 05\n",
      "  [1,6] = 06\n",
      "  [1,7] = 07\n",
      "  [1,8] = 08\n",
      "  [1,9] = 09\n",
      "  [1,10] = 10\n",
      "  [1,11] = 11\n",
      "  [1,12] = 12\n",
      "  [1,13] = 13\n",
      "  [1,14] = 14\n",
      "  [1,15] = 15\n",
      "  [1,16] = 16\n",
      "  [1,17] = 17\n",
      "  [1,18] = 18\n",
      "  [1,19] = 19\n",
      "  [1,20] = 20\n",
      "  [1,21] = 21\n",
      "}\n"
     ]
    }
   ],
   "source": [
    "bids.query(BIDS, 'subjects')"
   ]
  },
  {
   "cell_type": "code",
   "execution_count": 31,
   "metadata": {},
   "outputs": [
    {
     "name": "stdout",
     "output_type": "stream",
     "text": [
      "ans = {}(1x0)\n"
     ]
    }
   ],
   "source": [
    "bids.query(BIDS,'sessions')"
   ]
  },
  {
   "cell_type": "code",
   "execution_count": 32,
   "metadata": {},
   "outputs": [
    {
     "name": "stdout",
     "output_type": "stream",
     "text": [
      "ans = \n",
      "{\n",
      "  [1,1] = 01\n",
      "  [1,2] = 02\n",
      "}\n"
     ]
    }
   ],
   "source": [
    "bids.query(BIDS, 'runs')"
   ]
  },
  {
   "cell_type": "code",
   "execution_count": 33,
   "metadata": {},
   "outputs": [
    {
     "name": "stdout",
     "output_type": "stream",
     "text": [
      "ans = \n",
      "{\n",
      "  [1,1] = Simontask\n",
      "}\n"
     ]
    }
   ],
   "source": [
    "bids.query(BIDS, 'tasks')"
   ]
  },
  {
   "cell_type": "code",
   "execution_count": 34,
   "metadata": {},
   "outputs": [
    {
     "name": "stdout",
     "output_type": "stream",
     "text": [
      "ans = \n",
      "{\n",
      "  [1,1] = T1w\n",
      "  [1,2] = bold\n",
      "  [1,3] = events\n",
      "}\n"
     ]
    }
   ],
   "source": [
    "bids.query(BIDS, 'suffixes')"
   ]
  },
  {
   "cell_type": "code",
   "execution_count": 35,
   "metadata": {},
   "outputs": [
    {
     "name": "stdout",
     "output_type": "stream",
     "text": [
      "ans = \n",
      "{\n",
      "  [1,1] = anat\n",
      "  [1,2] = func\n",
      "}\n"
     ]
    }
   ],
   "source": [
    "bids.query(BIDS, 'modalities')"
   ]
  },
  {
   "cell_type": "code",
   "execution_count": 36,
   "metadata": {},
   "outputs": [
    {
     "name": "stdout",
     "output_type": "stream",
     "text": [
      "ans = {}(1x0)\n"
     ]
    }
   ],
   "source": [
    "% Make more specific queries\n",
    "bids.query(BIDS, 'runs', 'suffix', 'T1w')"
   ]
  },
  {
   "cell_type": "code",
   "execution_count": 37,
   "metadata": {},
   "outputs": [
    {
     "name": "stdout",
     "output_type": "stream",
     "text": [
      "ans = \n",
      "{\n",
      "  [1,1] = 01\n",
      "  [1,2] = 02\n",
      "}\n"
     ]
    }
   ],
   "source": [
    "bids.query(BIDS, 'runs', 'suffix', 'bold')"
   ]
  },
  {
   "cell_type": "markdown",
   "metadata": {},
   "source": [
    "### Get filenames"
   ]
  },
  {
   "cell_type": "markdown",
   "metadata": {},
   "source": [
    "Get the NIfTI file for subject `'05'`, run `'02'` and task `'Simontask'`:"
   ]
  },
  {
   "cell_type": "code",
   "execution_count": 38,
   "metadata": {
    "scrolled": true
   },
   "outputs": [
    {
     "name": "stdout",
     "output_type": "stream",
     "text": [
      "ans = \n",
      "{\n",
      "  [1,1] = /home/remi/github/BIDS-matlab/examples/bids-examples/ds101/sub-05/func/sub-05_task-Simontask_run-02_bold.nii.gz\n",
      "}\n"
     ]
    }
   ],
   "source": [
    "bids.query(BIDS,'data', 'sub','05', 'run', '02', 'task','Simontask', 'suffix','bold')"
   ]
  },
  {
   "cell_type": "markdown",
   "metadata": {},
   "source": [
    " Note that for the entities listed below can be queried using integers:\n",
    " - `'run'`\n",
    " - `'flip'`\n",
    " - `'inv'`\n",
    " - `'split'`\n",
    " - `'echo'`"
   ]
  },
  {
   "cell_type": "markdown",
   "metadata": {},
   "source": [
    "This can be also done by creating a structure that can be used as a library."
   ]
  },
  {
   "cell_type": "code",
   "execution_count": 39,
   "metadata": {},
   "outputs": [],
   "source": [
    "filter = struct(...\n",
    "    'sub','05', ...\n",
    "    'run', 1:3, ...\n",
    "    'task','Simontask', ...\n",
    "    'suffix','bold');"
   ]
  },
  {
   "cell_type": "code",
   "execution_count": 40,
   "metadata": {},
   "outputs": [
    {
     "name": "stdout",
     "output_type": "stream",
     "text": [
      "ans = \n",
      "{\n",
      "  [1,1] = /home/remi/github/BIDS-matlab/examples/bids-examples/ds101/sub-05/func/sub-05_task-Simontask_run-01_bold.nii.gz\n",
      "  [2,1] = /home/remi/github/BIDS-matlab/examples/bids-examples/ds101/sub-05/func/sub-05_task-Simontask_run-02_bold.nii.gz\n",
      "}\n"
     ]
    }
   ],
   "source": [
    "bids.query(BIDS, 'data', filter)"
   ]
  },
  {
   "cell_type": "markdown",
   "metadata": {},
   "source": [
    "You can also query data from several labels or indices"
   ]
  },
  {
   "cell_type": "code",
   "execution_count": 41,
   "metadata": {},
   "outputs": [
    {
     "name": "stdout",
     "output_type": "stream",
     "text": [
      "filter =\n",
      "\n",
      "  scalar structure containing the fields:\n",
      "\n",
      "    sub = \n",
      "    {\n",
      "      [1,1] = 01\n",
      "      [1,2] = 03\n",
      "    }\n",
      "    run =\n",
      "\n",
      "       1   2   3\n",
      "\n",
      "    task = Simontask\n",
      "    suffix = bold\n",
      "\n"
     ]
    }
   ],
   "source": [
    "filter.sub = {'01', '03'}"
   ]
  },
  {
   "cell_type": "code",
   "execution_count": 42,
   "metadata": {},
   "outputs": [
    {
     "name": "stdout",
     "output_type": "stream",
     "text": [
      "ans = \n",
      "{\n",
      "  [1,1] = /home/remi/github/BIDS-matlab/examples/bids-examples/ds101/sub-01/func/sub-01_task-Simontask_run-01_bold.nii.gz\n",
      "  [2,1] = /home/remi/github/BIDS-matlab/examples/bids-examples/ds101/sub-01/func/sub-01_task-Simontask_run-02_bold.nii.gz\n",
      "  [3,1] = /home/remi/github/BIDS-matlab/examples/bids-examples/ds101/sub-03/func/sub-03_task-Simontask_run-01_bold.nii.gz\n",
      "  [4,1] = /home/remi/github/BIDS-matlab/examples/bids-examples/ds101/sub-03/func/sub-03_task-Simontask_run-02_bold.nii.gz\n",
      "}\n"
     ]
    }
   ],
   "source": [
    "bids.query(BIDS, 'data', filter)"
   ]
  },
  {
   "cell_type": "markdown",
   "metadata": {},
   "source": [
    "### Get metadata"
   ]
  },
  {
   "cell_type": "markdown",
   "metadata": {},
   "source": [
    "We can also get the metadata of that file including TR:"
   ]
  },
  {
   "cell_type": "code",
   "execution_count": 43,
   "metadata": {},
   "outputs": [
    {
     "name": "stdout",
     "output_type": "stream",
     "text": [
      "ans = \n",
      "{\n",
      "  [1,1] =\n",
      "\n",
      "    scalar structure containing the fields:\n",
      "\n",
      "      RepetitionTime =  2\n",
      "      TaskName = Simon task\n",
      "\n",
      "  [1,2] =\n",
      "\n",
      "    scalar structure containing the fields:\n",
      "\n",
      "      RepetitionTime =  2\n",
      "      TaskName = Simon task\n",
      "\n",
      "  [1,3] =\n",
      "\n",
      "    scalar structure containing the fields:\n",
      "\n",
      "      RepetitionTime =  2\n",
      "      TaskName = Simon task\n",
      "\n",
      "  [1,4] =\n",
      "\n",
      "    scalar structure containing the fields:\n",
      "\n",
      "      RepetitionTime =  2\n",
      "      TaskName = Simon task\n",
      "\n",
      "}\n"
     ]
    }
   ],
   "source": [
    "bids.query(BIDS, 'metadata', filter)"
   ]
  },
  {
   "cell_type": "markdown",
   "metadata": {},
   "source": [
    "Get the T1-weighted images from all subjects:"
   ]
  },
  {
   "cell_type": "code",
   "execution_count": 44,
   "metadata": {},
   "outputs": [
    {
     "name": "stdout",
     "output_type": "stream",
     "text": [
      "ans = \n",
      "{\n",
      "  [1,1] = /home/remi/github/BIDS-matlab/examples/bids-examples/ds101/sub-01/anat/sub-01_T1w.nii.gz\n",
      "  [2,1] = /home/remi/github/BIDS-matlab/examples/bids-examples/ds101/sub-02/anat/sub-02_T1w.nii.gz\n",
      "  [3,1] = /home/remi/github/BIDS-matlab/examples/bids-examples/ds101/sub-03/anat/sub-03_T1w.nii.gz\n",
      "  [4,1] = /home/remi/github/BIDS-matlab/examples/bids-examples/ds101/sub-04/anat/sub-04_T1w.nii.gz\n",
      "  [5,1] = /home/remi/github/BIDS-matlab/examples/bids-examples/ds101/sub-05/anat/sub-05_T1w.nii.gz\n",
      "  [6,1] = /home/remi/github/BIDS-matlab/examples/bids-examples/ds101/sub-06/anat/sub-06_T1w.nii.gz\n",
      "  [7,1] = /home/remi/github/BIDS-matlab/examples/bids-examples/ds101/sub-07/anat/sub-07_T1w.nii.gz\n",
      "  [8,1] = /home/remi/github/BIDS-matlab/examples/bids-examples/ds101/sub-08/anat/sub-08_T1w.nii.gz\n",
      "  [9,1] = /home/remi/github/BIDS-matlab/examples/bids-examples/ds101/sub-09/anat/sub-09_T1w.nii.gz\n",
      "  [10,1] = /home/remi/github/BIDS-matlab/examples/bids-examples/ds101/sub-10/anat/sub-10_T1w.nii.gz\n",
      "  [11,1] = /home/remi/github/BIDS-matlab/examples/bids-examples/ds101/sub-11/anat/sub-11_T1w.nii.gz\n",
      "  [12,1] = /home/remi/github/BIDS-matlab/examples/bids-examples/ds101/sub-12/anat/sub-12_T1w.nii.gz\n",
      "  [13,1] = /home/remi/github/BIDS-matlab/examples/bids-examples/ds101/sub-13/anat/sub-13_T1w.nii.gz\n",
      "  [14,1] = /home/remi/github/BIDS-matlab/examples/bids-examples/ds101/sub-14/anat/sub-14_T1w.nii.gz\n",
      "  [15,1] = /home/remi/github/BIDS-matlab/examples/bids-examples/ds101/sub-15/anat/sub-15_T1w.nii.gz\n",
      "  [16,1] = /home/remi/github/BIDS-matlab/examples/bids-examples/ds101/sub-16/anat/sub-16_T1w.nii.gz\n",
      "  [17,1] = /home/remi/github/BIDS-matlab/examples/bids-examples/ds101/sub-17/anat/sub-17_T1w.nii.gz\n",
      "  [18,1] = /home/remi/github/BIDS-matlab/examples/bids-examples/ds101/sub-18/anat/sub-18_T1w.nii.gz\n",
      "  [19,1] = /home/remi/github/BIDS-matlab/examples/bids-examples/ds101/sub-19/anat/sub-19_T1w.nii.gz\n",
      "  [20,1] = /home/remi/github/BIDS-matlab/examples/bids-examples/ds101/sub-20/anat/sub-20_T1w.nii.gz\n",
      "  [21,1] = /home/remi/github/BIDS-matlab/examples/bids-examples/ds101/sub-21/anat/sub-21_T1w.nii.gz\n",
      "}\n"
     ]
    }
   ],
   "source": [
    "bids.query(BIDS, 'data', 'suffix', 'T1w')"
   ]
  },
  {
   "cell_type": "markdown",
   "metadata": {},
   "source": [
    "### Get \"dependencies\" of a given file"
   ]
  },
  {
   "cell_type": "markdown",
   "metadata": {},
   "source": [
    "This can be useful to find the files that are associated with the file you just queried.\n",
    "\n",
    "In this case the events file for a BOLD run."
   ]
  },
  {
   "cell_type": "code",
   "execution_count": 45,
   "metadata": {
    "scrolled": true
   },
   "outputs": [
    {
     "name": "stdout",
     "output_type": "stream",
     "text": [
      "dependencies =\n",
      "\n",
      "  scalar structure containing the fields:\n",
      "\n",
      "    explicit = {}(0x0)\n",
      "    data = {}(0x0)\n",
      "    group = \n",
      "    {\n",
      "      [1,1] = /home/remi/github/BIDS-matlab/examples/bids-examples/ds101/sub-05/func/sub-05_task-Simontask_run-02_events.tsv\n",
      "    }\n",
      "\n"
     ]
    }
   ],
   "source": [
    "filter = struct(...\n",
    "    'sub','05', ...\n",
    "    'run','02', ...\n",
    "    'task','Simontask', ...\n",
    "    'suffix','bold');\n",
    "    \n",
    "dependencies = bids.query(BIDS, 'dependencies', filter)    "
   ]
  },
  {
   "cell_type": "markdown",
   "metadata": {},
   "source": [
    "### Using regular expressions"
   ]
  },
  {
   "cell_type": "markdown",
   "metadata": {},
   "source": [
    "When using `bids.query` it is possible to use regular expressions. "
   ]
  },
  {
   "cell_type": "code",
   "execution_count": 46,
   "metadata": {},
   "outputs": [
    {
     "name": "stdout",
     "output_type": "stream",
     "text": [
      "data = \n",
      "{\n",
      "  [1,1] = /home/remi/github/BIDS-matlab/examples/bids-examples/ds101/sub-01/func/sub-01_task-Simontask_run-02_bold.nii.gz\n",
      "  [2,1] = /home/remi/github/BIDS-matlab/examples/bids-examples/ds101/sub-02/func/sub-02_task-Simontask_run-02_bold.nii.gz\n",
      "  [3,1] = /home/remi/github/BIDS-matlab/examples/bids-examples/ds101/sub-03/func/sub-03_task-Simontask_run-02_bold.nii.gz\n",
      "}\n"
     ]
    }
   ],
   "source": [
    "filter = struct(...\n",
    "    'sub','0[1-5]', ...\n",
    "    'run','02', ...\n",
    "    'task','Simon*', ...\n",
    "    'suffix','bold');\n",
    "    \n",
    "filter = struct(...\n",
    "    'sub','0[1-3]', ...\n",
    "    'run','02', ...\n",
    "    'task','Sim.*', ...\n",
    "    'suffix','bold');    \n",
    "    \n",
    "data = bids.query(BIDS, 'data', filter)    "
   ]
  }
 ],
 "metadata": {
  "kernelspec": {
   "display_name": "Octave",
   "language": "octave",
   "name": "octave"
  },
  "language_info": {
   "file_extension": ".m",
   "help_links": [
    {
     "text": "GNU Octave",
     "url": "https://www.gnu.org/software/octave/support.html"
    },
    {
     "text": "Octave Kernel",
     "url": "https://github.com/Calysto/octave_kernel"
    },
    {
     "text": "MetaKernel Magics",
     "url": "https://metakernel.readthedocs.io/en/latest/source/README.html"
    }
   ],
   "mimetype": "text/x-octave",
   "name": "octave",
   "version": "4.2.2"
  }
 },
 "nbformat": 4,
 "nbformat_minor": 4
}
