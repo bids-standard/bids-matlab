{
 "cells": [
  {
   "cell_type": "markdown",
   "metadata": {},
   "source": [
    "# BIDS-matlab: reports"
   ]
  },
  {
   "cell_type": "code",
   "execution_count": 1,
   "metadata": {},
   "outputs": [],
   "source": [
    "% add bids-matlab to path\n",
    "addpath(fullfile(pwd, '..'));"
   ]
  },
  {
   "cell_type": "code",
   "execution_count": 2,
   "metadata": {},
   "outputs": [],
   "source": [
    "BIDS = bids.layout(fullfile(pwd, 'bids-examples', 'ds101'));"
   ]
  },
  {
   "cell_type": "code",
   "execution_count": 5,
   "metadata": {},
   "outputs": [
    {
     "name": "stdout",
     "output_type": "stream",
     "text": [
      "Dataset description saved in:  /home/remi/github/BIDS-matlab/examples/output/dataset-ds101_bids-matlab_report.md\n",
      "\n",
      "\n",
      "\n",
      "\n",
      "--------------------------------------------------------------------------------\n",
      "warning: saving to file not implement for Ocatve\n",
      "warning: called from\n",
      "    error_handling at line 48 column 5\n",
      "    report>print_to_output at line 592 column 7\n",
      "    report at line 102 column 9\n",
      "ANAT REPORT\n",
      "\n",
      "\n",
      " Getting parameters - sub-01_T1w.nii.gz\n",
      "\n",
      "warning: saving to file not implement for Ocatve\n",
      "warning: called from\n",
      "    error_handling at line 48 column 5\n",
      "    report>print_to_output at line 592 column 7\n",
      "    report>print_text at line 659 column 3\n",
      "    report>report_nifti at line 187 column 5\n",
      "    report at line 109 column 13\n",
      "The data acquisition was performed in the {{InstitutionName}}, {{InstitutionalDepartmentName}}, \n",
      "{{InstitutionAddress}}.\n",
      "\n",
      "warning: saving to file not implement for Ocatve\n",
      "warning: called from\n",
      "    error_handling at line 48 column 5\n",
      "    report>print_to_output at line 592 column 7\n",
      "    report>print_text at line 659 column 3\n",
      "    report>report_nifti at line 193 column 7\n",
      "    report at line 109 column 13\n",
      "MRI scans were acquired at {{MagneticFieldStrength}} Tesla using a {{ManufacturersModelName}} \n",
      "system from {{Manufacturer}}, with serial number {{DeviceSerialNumber}}. \n",
      "The software version was {{SoftwareVersions}}.\n",
      "\n",
      "warning: saving to file not implement for Ocatve\n",
      "warning: called from\n",
      "    error_handling at line 48 column 5\n",
      "    report>print_to_output at line 592 column 7\n",
      "    report>report_nifti at line 196 column 5\n",
      "    report at line 109 column 13\n",
      "{{PulseSequenceType}} {{ScanningSequence}} {{SequenceVariant}} T1w structural MRI \n",
      "data were collected ({{nb_slices}} slices; repetition time, TR= {{RepetitionTime}} \n",
      "s; echo time, TE= {{echo_time}} ms; flip angle, FA= {{FlipAngle}} deg; field \n",
      "of view, FOV= {{fov}} mm; matrix size= {{mat_size}}; voxel size= {{vox_size}} \n",
      "mm).\n",
      "\n",
      "warning: saving to file not implement for Ocatve\n",
      "warning: called from\n",
      "    error_handling at line 48 column 5\n",
      "    report>print_to_output at line 592 column 7\n",
      "    report at line 102 column 9\n",
      "FUNC REPORT\n",
      "\n",
      "\n",
      " Getting parameters - sub-01_task-Simontask_run-01_bold.nii.gz\n",
      "\n",
      "warning: saving to file not implement for Ocatve\n",
      "warning: called from\n",
      "    error_handling at line 48 column 5\n",
      "    report>print_to_output at line 592 column 7\n",
      "    report>print_text at line 659 column 3\n",
      "    report>report_func at line 239 column 7\n",
      "    report at line 112 column 13\n",
      "The data acquisition was performed in the {{InstitutionName}}, {{InstitutionalDepartmentName}}, \n",
      "{{InstitutionAddress}}.\n",
      "\n",
      "warning: saving to file not implement for Ocatve\n",
      "warning: called from\n",
      "    error_handling at line 48 column 5\n",
      "    report>print_to_output at line 592 column 7\n",
      "    report>print_text at line 659 column 3\n",
      "    report>report_func at line 241 column 7\n",
      "    report at line 112 column 13\n",
      "MRI scans were acquired at {{MagneticFieldStrength}} Tesla using a {{ManufacturersModelName}} \n",
      "system from {{Manufacturer}}, with serial number {{DeviceSerialNumber}}. \n",
      "The software version was {{SoftwareVersions}}.\n",
      "\n",
      "warning: saving to file not implement for Ocatve\n",
      "warning: called from\n",
      "    error_handling at line 48 column 5\n",
      "    report>print_to_output at line 592 column 7\n",
      "    report>report_func at line 243 column 7\n",
      "    report at line 112 column 13\n",
      "For the Simon task task, 2 run(s) of bold {{PulseSequenceType}} {{ScanningSequence}} \n",
      "{{SequenceVariant}} fMRI data were collected. The acquisiton parameters were: \n",
      "{{nb_slices}} slices acquired in a {{so_str}} fashion; repetition time, TR= 2 \n",
      "s; echo time, TE= {{echo_time}} ms; flip angle, FA= {{FlipAngle}} deg; field of \n",
      "view, FOV= {{fov}} mm; matrix size= {{mat_size}}; voxel size= {{vox_size}} mm; \n",
      "multiband factor= {{mb_str}}; in-plane acceleration factor= {pr_str}}. Each run \n",
      "was {{length}} minutes in length, during which {{nb_vols}} functional volumes were \n",
      "acquired.\n",
      "\n",
      "warning: saving to file not implement for Ocatve\n",
      "warning: called from\n",
      "    error_handling at line 48 column 5\n",
      "    report>print_to_output at line 592 column 7\n",
      "    report>print_text at line 659 column 3\n",
      "    report>report_func at line 245 column 7\n",
      "    report at line 112 column 13\n",
      "{{TaskDescription}} Participants were specifically instructed to: {{Instructions}}\n",
      "\n",
      "warning: saving to file not implement for Ocatve\n",
      "warning: called from\n",
      "    error_handling at line 48 column 5\n",
      "    report>print_to_output at line 592 column 7\n",
      "    report>print_text at line 659 column 3\n",
      "    report at line 131 column 3\n",
      "This text was automatically generated by [BIDS-matlab](https://github.com/bids-standard/bids-matlab).\n",
      "\n"
     ]
    }
   ],
   "source": [
    "read_nifti = false;\n",
    "output_path = fullfile(pwd, 'output');\n",
    "verbose = true;\n",
    "\n",
    "bids.report(BIDS,\n",
    "            'output_path', output_path, ...\n",
    "            'read_nifti', read_nifti, ...\n",
    "            'verbose', verbose);"
   ]
  }
 ],
 "metadata": {
  "kernelspec": {
   "display_name": "Octave",
   "language": "octave",
   "name": "octave"
  },
  "language_info": {
   "file_extension": ".m",
   "help_links": [
    {
     "text": "GNU Octave",
     "url": "https://www.gnu.org/software/octave/support.html"
    },
    {
     "text": "Octave Kernel",
     "url": "https://github.com/Calysto/octave_kernel"
    },
    {
     "text": "MetaKernel Magics",
     "url": "https://metakernel.readthedocs.io/en/latest/source/README.html"
    }
   ],
   "mimetype": "text/x-octave",
   "name": "octave",
   "version": "4.2.2"
  }
 },
 "nbformat": 4,
 "nbformat_minor": 4
}
