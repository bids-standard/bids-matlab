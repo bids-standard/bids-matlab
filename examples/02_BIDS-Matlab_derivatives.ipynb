{
 "cells": [
  {
   "cell_type": "markdown",
   "metadata": {
    "tags": []
   },
   "source": [
    "# BIDS-Matlab: derivatives\n",
    "\n",
    "1. [Indexing derivatives](#Indexing-derivatives)\n",
    "1. [Indexing nested derivatives](#Indexing-nested-derivatives)\n",
    "1. [Copying a raw dataset to start a new analysis](#Copying-a-raw-dataset-to-start-a-new-analysis)\n"
   ]
  },
  {
   "cell_type": "code",
   "execution_count": 31,
   "metadata": {},
   "outputs": [],
   "source": [
    "% add bids-matlab to path\n",
    "addpath(fullfile(pwd, '..'));"
   ]
  },
  {
   "cell_type": "markdown",
   "metadata": {},
   "source": [
    "## Indexing derivatives\n",
    "\n",
    "Let's work on an `fmriprep` dataset.\n",
    "\n",
    "To work with derivatives data, we must ignore the BIDS schema for indexing."
   ]
  },
  {
   "cell_type": "code",
   "execution_count": 32,
   "metadata": {
    "scrolled": true
   },
   "outputs": [],
   "source": [
    "use_schema = false();\n",
    "\n",
    "BIDS = bids.layout(fullfile(pwd, 'bids-examples', 'ds000001-fmriprep'), ...\n",
    "                   'use_schema', false);"
   ]
  },
  {
   "cell_type": "code",
   "execution_count": 33,
   "metadata": {
    "tags": []
   },
   "outputs": [
    {
     "name": "stdout",
     "output_type": "stream",
     "text": [
      "ans = \n",
      "{\n",
      "  [1,1] = anat\n",
      "  [1,2] = figures\n",
      "  [1,3] = func\n",
      "}\n"
     ]
    }
   ],
   "source": [
    "bids.query(BIDS, 'modalities')"
   ]
  },
  {
   "cell_type": "markdown",
   "metadata": {},
   "source": [
    "The dataset description `DatasetType` confirms we are working with a derivative dataset."
   ]
  },
  {
   "cell_type": "code",
   "execution_count": 34,
   "metadata": {
    "tags": []
   },
   "outputs": [
    {
     "name": "stdout",
     "output_type": "stream",
     "text": [
      "ans =\n",
      "\n",
      "  scalar structure containing the fields:\n",
      "\n",
      "    Name = fMRIPrep - fMRI PREProcessing workflow\n",
      "    BIDSVersion = 1.4.0\n",
      "    DatasetType = derivative\n",
      "    GeneratedBy =\n",
      "\n",
      "      scalar structure containing the fields:\n",
      "\n",
      "        Name = fMRIPrep\n",
      "        Version = 20.2.0rc0\n",
      "        CodeURL = https://github.com/poldracklab/fmriprep/archive/20.2.0rc0.tar.gz\n",
      "\n",
      "    HowToAcknowledge = Please cite our paper (https://doi.org/10.1038/s41592-018-0235-4), and include the generated citation boilerplate within the Methods section of the text.\n",
      "    License = This dataset is made available under the Public Domain Dedication and License \n",
      "v1.0, whose full text can be found at \n",
      "http://www.opendatacommons.org/licenses/pddl/1.0/. \n",
      "We hope that all users will follow the ODC Attribution/Share-Alike \n",
      "Community Norms (http://www.opendatacommons.org/norms/odc-by-sa/); \n",
      "in particular, while not legally required, we hope that all users \n",
      "of the data will acknowledge the OpenfMRI project and NSF Grant \n",
      "OCI-1131441 (R. Poldrack, PI) in any publications.\n",
      "\n"
     ]
    }
   ],
   "source": [
    "BIDS.description"
   ]
  },
  {
   "cell_type": "markdown",
   "metadata": {},
   "source": [
    "We can access any preprocessed data by querying for data described (`desc` entitiy) as preprocessed (`preproc`) and maybe also in which `space` we want to work in."
   ]
  },
  {
   "cell_type": "code",
   "execution_count": 35,
   "metadata": {
    "tags": []
   },
   "outputs": [
    {
     "name": "stdout",
     "output_type": "stream",
     "text": [
      "ans = \n",
      "{\n",
      "  [1,1] = /home/remi/github/BIDS-matlab/examples/bids-examples/ds000001-fmriprep/sub-10/anat/sub-10_space-MNI152NLin2009cAsym_res-2_desc-preproc_T1w.json\n",
      "  [2,1] = /home/remi/github/BIDS-matlab/examples/bids-examples/ds000001-fmriprep/sub-10/anat/sub-10_space-MNI152NLin2009cAsym_res-2_desc-preproc_T1w.nii.gz\n",
      "  [3,1] = /home/remi/github/BIDS-matlab/examples/bids-examples/ds000001-fmriprep/sub-11/anat/sub-11_space-MNI152NLin2009cAsym_res-2_desc-preproc_T1w.json\n",
      "  [4,1] = /home/remi/github/BIDS-matlab/examples/bids-examples/ds000001-fmriprep/sub-11/anat/sub-11_space-MNI152NLin2009cAsym_res-2_desc-preproc_T1w.nii.gz\n",
      "  [5,1] = /home/remi/github/BIDS-matlab/examples/bids-examples/ds000001-fmriprep/sub-13/anat/sub-13_space-MNI152NLin2009cAsym_res-2_desc-preproc_T1w.json\n",
      "  [6,1] = /home/remi/github/BIDS-matlab/examples/bids-examples/ds000001-fmriprep/sub-13/anat/sub-13_space-MNI152NLin2009cAsym_res-2_desc-preproc_T1w.nii.gz\n",
      "  [7,1] = /home/remi/github/BIDS-matlab/examples/bids-examples/ds000001-fmriprep/sub-16/anat/sub-16_space-MNI152NLin2009cAsym_res-2_desc-preproc_T1w.json\n",
      "  [8,1] = /home/remi/github/BIDS-matlab/examples/bids-examples/ds000001-fmriprep/sub-16/anat/sub-16_space-MNI152NLin2009cAsym_res-2_desc-preproc_T1w.nii.gz\n",
      "}\n"
     ]
    }
   ],
   "source": [
    "bids.query(BIDS, 'data', 'modality', 'anat',  'desc', 'preproc', 'space', 'MNI152NLin2009cAsym')"
   ]
  },
  {
   "cell_type": "markdown",
   "metadata": {},
   "source": [
    "\n",
    "But we can also get the surface data from Freesurfer.\n"
   ]
  },
  {
   "cell_type": "code",
   "execution_count": 36,
   "metadata": {
    "tags": []
   },
   "outputs": [
    {
     "name": "stdout",
     "output_type": "stream",
     "text": [
      "ans = \n",
      "{\n",
      "  [1,1] = /home/remi/github/BIDS-matlab/examples/bids-examples/ds000001-fmriprep/sub-10/func/sub-10_task-balloonanalogrisktask_run-1_space-fsaverage5_hemi-L_bold.func.gii\n",
      "  [2,1] = /home/remi/github/BIDS-matlab/examples/bids-examples/ds000001-fmriprep/sub-10/func/sub-10_task-balloonanalogrisktask_run-1_space-fsaverage5_hemi-R_bold.func.gii\n",
      "  [3,1] = /home/remi/github/BIDS-matlab/examples/bids-examples/ds000001-fmriprep/sub-10/func/sub-10_task-balloonanalogrisktask_run-2_space-fsaverage5_hemi-L_bold.func.gii\n",
      "  [4,1] = /home/remi/github/BIDS-matlab/examples/bids-examples/ds000001-fmriprep/sub-10/func/sub-10_task-balloonanalogrisktask_run-2_space-fsaverage5_hemi-R_bold.func.gii\n",
      "  [5,1] = /home/remi/github/BIDS-matlab/examples/bids-examples/ds000001-fmriprep/sub-10/func/sub-10_task-balloonanalogrisktask_run-3_space-fsaverage5_hemi-L_bold.func.gii\n",
      "  [6,1] = /home/remi/github/BIDS-matlab/examples/bids-examples/ds000001-fmriprep/sub-10/func/sub-10_task-balloonanalogrisktask_run-3_space-fsaverage5_hemi-R_bold.func.gii\n",
      "}\n"
     ]
    }
   ],
   "source": [
    "bids.query(BIDS, 'data', 'sub', '10', 'modality', 'func', 'space', 'fsaverage5')"
   ]
  },
  {
   "cell_type": "code",
   "execution_count": 37,
   "metadata": {
    "tags": []
   },
   "outputs": [
    {
     "name": "stdout",
     "output_type": "stream",
     "text": [
      "ans = \n",
      "{\n",
      "  [1,1] = /home/remi/github/BIDS-matlab/examples/bids-examples/ds000001-fmriprep/sub-10/func/sub-10_task-balloonanalogrisktask_run-1_desc-confounds_timeseries.json\n",
      "  [2,1] = /home/remi/github/BIDS-matlab/examples/bids-examples/ds000001-fmriprep/sub-10/func/sub-10_task-balloonanalogrisktask_run-1_desc-confounds_timeseries.tsv\n",
      "  [3,1] = /home/remi/github/BIDS-matlab/examples/bids-examples/ds000001-fmriprep/sub-10/func/sub-10_task-balloonanalogrisktask_run-2_desc-confounds_timeseries.json\n",
      "  [4,1] = /home/remi/github/BIDS-matlab/examples/bids-examples/ds000001-fmriprep/sub-10/func/sub-10_task-balloonanalogrisktask_run-2_desc-confounds_timeseries.tsv\n",
      "  [5,1] = /home/remi/github/BIDS-matlab/examples/bids-examples/ds000001-fmriprep/sub-10/func/sub-10_task-balloonanalogrisktask_run-3_desc-confounds_timeseries.json\n",
      "  [6,1] = /home/remi/github/BIDS-matlab/examples/bids-examples/ds000001-fmriprep/sub-10/func/sub-10_task-balloonanalogrisktask_run-3_desc-confounds_timeseries.tsv\n",
      "}\n"
     ]
    }
   ],
   "source": [
    "bids.query(BIDS, 'data', 'sub', '10', 'desc', 'confounds')"
   ]
  },
  {
   "cell_type": "markdown",
   "metadata": {},
   "source": [
    "We can also directly look up json files when we don't use the BIDS schema."
   ]
  },
  {
   "cell_type": "code",
   "execution_count": 38,
   "metadata": {
    "tags": []
   },
   "outputs": [
    {
     "name": "stdout",
     "output_type": "stream",
     "text": [
      "ans = \n",
      "{\n",
      "  [1,1] = .csv\n",
      "  [1,2] = .func.gii\n",
      "  [1,3] = .h5\n",
      "  [1,4] = .html\n",
      "  [1,5] = .json\n",
      "  [1,6] = .nii.gz\n",
      "  [1,7] = .surf.gii\n",
      "  [1,8] = .svg\n",
      "  [1,9] = .tsv\n",
      "  [1,10] = .txt\n",
      "}\n"
     ]
    }
   ],
   "source": [
    "bids.query(BIDS, 'extensions')"
   ]
  },
  {
   "cell_type": "code",
   "execution_count": 39,
   "metadata": {
    "tags": []
   },
   "outputs": [
    {
     "name": "stdout",
     "output_type": "stream",
     "text": [
      "ans = \n",
      "{\n",
      "  [1,1] = /home/remi/github/BIDS-matlab/examples/bids-examples/ds000001-fmriprep/sub-10/func/sub-10_task-balloonanalogrisktask_run-3_space-MNI152NLin2009cAsym_res-2_desc-preproc_bold.json\n",
      "}\n"
     ]
    }
   ],
   "source": [
    "filter.sub = '10';\n",
    "filter.extension = '.json';\n",
    "bids.query(BIDS, 'data', filter)"
   ]
  },
  {
   "cell_type": "code",
   "execution_count": 40,
   "metadata": {
    "tags": []
   },
   "outputs": [
    {
     "name": "stdout",
     "output_type": "stream",
     "text": [
      "json_file = \n",
      "{\n",
      "  [1,1] = /home/remi/github/BIDS-matlab/examples/bids-examples/ds000001-fmriprep/sub-10/func/sub-10_task-balloonanalogrisktask_run-3_space-MNI152NLin2009cAsym_res-2_desc-preproc_bold.json\n",
      "}\n",
      "ans =\n",
      "\n",
      "  scalar structure containing the fields:\n",
      "\n",
      "    RepetitionTime =  2\n",
      "    SkullStripped = 0\n",
      "    TaskName = balloon analog risk task\n",
      "\n"
     ]
    }
   ],
   "source": [
    "filter.space = 'MNI152NLin2009cAsym';\n",
    "filter.desc = 'preproc';\n",
    "filter.run = '3';\n",
    "json_file = bids.query(BIDS, 'data', filter)\n",
    "bids.util.jsondecode(json_file{1})"
   ]
  },
  {
   "cell_type": "markdown",
   "metadata": {},
   "source": [
    "## Indexing nested derivatives"
   ]
  },
  {
   "cell_type": "code",
   "execution_count": 41,
   "metadata": {},
   "outputs": [
    {
     "name": "stdout",
     "output_type": "stream",
     "text": [
      "warning: OFF\n"
     ]
    }
   ],
   "source": [
    "warning('OFF')"
   ]
  },
  {
   "cell_type": "code",
   "execution_count": 42,
   "metadata": {},
   "outputs": [
    {
     "name": "stdout",
     "output_type": "stream",
     "text": [
      "warning: Duplicate key.\n",
      "warning: called from\n",
      "    jsondecode at line 41 column 11\n",
      "    get_metadata at line 28 column 12\n",
      "    layout>manage_dependencies at line 547 column 14\n",
      "    layout at line 146 column 8\n",
      "    layout>index_derivatives_dir at line 187 column 43\n",
      "    layout at line 148 column 8\n",
      "warning: Duplicate key.\n",
      "warning: called from\n",
      "    jsondecode at line 41 column 11\n",
      "    get_metadata at line 28 column 12\n",
      "    layout>manage_dependencies at line 547 column 14\n",
      "    layout at line 146 column 8\n",
      "    layout>index_derivatives_dir at line 187 column 43\n",
      "    layout at line 148 column 8\n",
      "warning: Duplicate key.\n",
      "warning: called from\n",
      "    jsondecode at line 41 column 11\n",
      "    get_metadata at line 28 column 12\n",
      "    layout>manage_dependencies at line 547 column 14\n",
      "    layout at line 146 column 8\n",
      "    layout>index_derivatives_dir at line 187 column 43\n",
      "    layout at line 148 column 8\n",
      "warning: Duplicate key.\n",
      "warning: called from\n",
      "    jsondecode at line 41 column 11\n",
      "    get_metadata at line 28 column 12\n",
      "    layout>manage_dependencies at line 547 column 14\n",
      "    layout at line 146 column 8\n",
      "    layout>index_derivatives_dir at line 187 column 43\n",
      "    layout at line 148 column 8\n",
      "warning: Duplicate key.\n",
      "warning: called from\n",
      "    jsondecode at line 41 column 11\n",
      "    get_metadata at line 28 column 12\n",
      "    layout>manage_dependencies at line 547 column 14\n",
      "    layout at line 146 column 8\n",
      "    layout>index_derivatives_dir at line 187 column 43\n",
      "    layout at line 148 column 8\n",
      "warning: Duplicate key.\n",
      "warning: called from\n",
      "    jsondecode at line 41 column 11\n",
      "    get_metadata at line 28 column 12\n",
      "    layout>manage_dependencies at line 547 column 14\n",
      "    layout at line 146 column 8\n",
      "    layout>index_derivatives_dir at line 187 column 43\n",
      "    layout at line 148 column 8\n",
      "warning: Duplicate key.\n",
      "warning: called from\n",
      "    jsondecode at line 41 column 11\n",
      "    get_metadata at line 28 column 12\n",
      "    layout>manage_dependencies at line 547 column 14\n",
      "    layout at line 146 column 8\n",
      "    layout>index_derivatives_dir at line 187 column 43\n",
      "    layout at line 148 column 8\n"
     ]
    }
   ],
   "source": [
    "BIDS = bids.layout(fullfile(pwd,'bids-examples', 'ds000117'), ...\n",
    "                   'use_schema', false, ...\n",
    "                   'index_derivatives', true);"
   ]
  },
  {
   "cell_type": "code",
   "execution_count": 43,
   "metadata": {},
   "outputs": [
    {
     "name": "stdout",
     "output_type": "stream",
     "text": [
      "ans = \n",
      "{\n",
      "  [1,1] = 01\n",
      "  [1,2] = 02\n",
      "  [1,3] = 03\n",
      "  [1,4] = 04\n",
      "  [1,5] = 05\n",
      "  [1,6] = 06\n",
      "  [1,7] = 07\n",
      "  [1,8] = 08\n",
      "  [1,9] = 09\n",
      "  [1,10] = 10\n",
      "  [1,11] = 11\n",
      "  [1,12] = 12\n",
      "  [1,13] = 13\n",
      "  [1,14] = 14\n",
      "  [1,15] = 15\n",
      "  [1,16] = 16\n",
      "  [1,17] = emptyroom\n",
      "}\n"
     ]
    }
   ],
   "source": [
    "bids.query(BIDS.derivatives.meg_derivatives, 'subjects')"
   ]
  },
  {
   "cell_type": "markdown",
   "metadata": {
    "tags": []
   },
   "source": [
    "## Copying a raw dataset to start a new analysis\n",
    "\n",
    "Let's work on an `fmriprep` dataset.\n",
    "\n",
    "To work with derivatives data, we must ignore the BIDS schema for indexing."
   ]
  },
  {
   "cell_type": "code",
   "execution_count": 50,
   "metadata": {},
   "outputs": [
    {
     "name": "stdout",
     "output_type": "stream",
     "text": [
      "output_path = /home/remi/github/BIDS-matlab/examples/output\n",
      "ans = 1\n",
      "error: argument 'OUTPUT_PATH' is not a valid parameter\n",
      "error: called from\n",
      "    error at line 539 column 7\n",
      "    parse at line 463 column 13\n",
      "    copy_to_derivative at line 78 column 3\n"
     ]
    }
   ],
   "source": [
    "dataset = fullfile(pwd, 'bids-examples', 'qmri_vfa');\n",
    "\n",
    "output_path = fullfile(pwd, 'output')\n",
    "\n",
    "filter =  struct('modality', 'anat');\n",
    "\n",
    "pipeline_name = 'SPM12';\n",
    "\n",
    "bids.copy_to_derivative(dataset, ...\n",
    "                        'pipeline_name', pipeline_name, ...\n",
    "                        'output_path', output_path, ...\n",
    "                        'filter', filter, ...\n",
    "                        'force', true, ...\n",
    "                        'unzip', false, ...\n",
    "                        'verbose', true);"
   ]
  },
  {
   "cell_type": "code",
   "execution_count": 45,
   "metadata": {},
   "outputs": [
    {
     "name": "stdout",
     "output_type": "stream",
     "text": [
      "error: argument '/HOME/REMI/GITHUB/BIDS-MATLAB/EXAMPLES/OUTPUT/SPM12' is not a valid parameter\n",
      "error: called from\n",
      "    error at line 539 column 7\n",
      "    parse at line 463 column 13\n",
      "    layout at line 59 column 3\n",
      "error: structure has no member 'GeneratedBy'\n"
     ]
    }
   ],
   "source": [
    "BIDS = bids.layout(fullfile(output_path, 'SPM12'));\n",
    "BIDS.description.GeneratedBy"
   ]
  }
 ],
 "metadata": {
  "kernelspec": {
   "display_name": "Octave",
   "language": "octave",
   "name": "octave"
  },
  "language_info": {
   "file_extension": ".m",
   "help_links": [
    {
     "text": "GNU Octave",
     "url": "https://www.gnu.org/software/octave/support.html"
    },
    {
     "text": "Octave Kernel",
     "url": "https://github.com/Calysto/octave_kernel"
    },
    {
     "text": "MetaKernel Magics",
     "url": "https://metakernel.readthedocs.io/en/latest/source/README.html"
    }
   ],
   "mimetype": "text/x-octave",
   "name": "octave",
   "version": "4.2.2"
  }
 },
 "nbformat": 4,
 "nbformat_minor": 4
}
