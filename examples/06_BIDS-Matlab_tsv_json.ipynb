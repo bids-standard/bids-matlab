{
 "cells": [
  {
   "cell_type": "markdown",
   "source": [
    "# BIDS-Matlab: TSV and JSON files\n",
    "\n",
    "1.  [Read from TSV files](#Read-from-TSV-files)\n",
    "1.  [Write to TSV files](#Write-to-TSV-files)\n",
    "1.  [Write to JSON files](#Write-to-JSON-files)\n",
    "1.  [Read from JSON files](#Read-from-JSON-files)\n",
    "\n",
    "\n",
    "## Read from TSV files\n",
    "\n",
    "This can be done with the `bids.util.tsvread` function."
   ],
   "metadata": {}
  },
  {
   "cell_type": "code",
   "execution_count": 7,
   "source": [
    "% add bids-matlab to path\n",
    "addpath(fullfile(pwd, '..'));\n",
    "\n",
    "warning('off','all');"
   ],
   "outputs": [],
   "metadata": {}
  },
  {
   "cell_type": "code",
   "execution_count": null,
   "source": [
    "BIDS = bids.layout(fullfile(pwd,'bids-examples','ieeg_visual'));"
   ],
   "outputs": [],
   "metadata": {}
  },
  {
   "cell_type": "code",
   "execution_count": null,
   "source": [
    "bids.query(BIDS, 'subjects') \n",
    "bids.query(BIDS, 'tasks')\n",
    "events_file = bids.query(BIDS, 'data', 'sub', '01', 'task', 'visual', 'suffix', 'events')"
   ],
   "outputs": [],
   "metadata": {}
  },
  {
   "cell_type": "code",
   "execution_count": null,
   "source": [
    "bids.util.tsvread(events_file{1})"
   ],
   "outputs": [],
   "metadata": {}
  },
  {
   "cell_type": "markdown",
   "source": [
    "## Write to TSV files"
   ],
   "metadata": {}
  },
  {
   "cell_type": "code",
   "execution_count": 5,
   "source": [
    "tsv_file = fullfile(pwd, 'output', 'sub-01_task-STRUCTURE_events.tsv');\n",
    "\n",
    "logFile.onset = [2; NaN];\n",
    "logFile.trial_type = {'motion_up'; 'static'};\n",
    "logFile.duration = [1; 4];\n",
    "logFile.speed = [NaN; 4];\n",
    "logFile.is_fixation = {'true'; '3'};\n",
    "\n",
    "bids.util.tsvwrite(tsv_file, logFile);"
   ],
   "outputs": [],
   "metadata": {}
  },
  {
   "cell_type": "code",
   "execution_count": 6,
   "source": [
    "!cat output/sub-01_task-STRUCTURE_events.tsv"
   ],
   "outputs": [
    {
     "output_type": "stream",
     "name": "stdout",
     "text": [
      "onset\ttrial_type\tduration\tspeed\tis_fixation\n",
      "2\tmotion_up\t1\tn/a\ttrue\n",
      "n/a\tstatic\t4\t4\t3\n",
      "\n"
     ]
    }
   ],
   "metadata": {}
  },
  {
   "cell_type": "markdown",
   "source": [
    "## Write to JSON files"
   ],
   "metadata": {}
  },
  {
   "cell_type": "code",
   "execution_count": 10,
   "source": [
    "content = struct(  'Name', 'test', ...\n",
    "                   'BIDSVersion', '1.6', ...\n",
    "                   'DatasetType', 'raw', ...\n",
    "                   'License', '', ...\n",
    "                   'Acknowledgements', '', ...\n",
    "                   'HowToAcknowledge', '', ...\n",
    "                   'DatasetDOI', '', ...\n",
    "                   'HEDVersion', '', ...\n",
    "                   'Funding', {{}}, ...\n",
    "                   'Authors', {{}}, ...\n",
    "                   'ReferencesAndLinks', {{}});\n",
    "\n",
    "bids.util.jsonencode(fullfile(pwd, 'output', 'dataset_description.json'), content)"
   ],
   "outputs": [],
   "metadata": {}
  },
  {
   "cell_type": "code",
   "execution_count": 11,
   "source": [
    "!cat output/dataset_description.json"
   ],
   "outputs": [
    {
     "output_type": "stream",
     "name": "stdout",
     "text": [
      "{\n",
      "  \"Name\": \"test\",\n",
      "  \"BIDSVersion\": \"1.6\",\n",
      "  \"DatasetType\": \"raw\",\n",
      "  \"License\": \"\",\n",
      "  \"Acknowledgements\": \"\",\n",
      "  \"HowToAcknowledge\": \"\",\n",
      "  \"DatasetDOI\": \"\",\n",
      "  \"HEDVersion\": \"\",\n",
      "  \"Funding\": [],\n",
      "  \"Authors\": [],\n",
      "  \"ReferencesAndLinks\": []\n",
      "}\n"
     ]
    }
   ],
   "metadata": {}
  },
  {
   "cell_type": "markdown",
   "source": [
    "## Read from JSON files"
   ],
   "metadata": {}
  },
  {
   "cell_type": "code",
   "execution_count": 13,
   "source": [
    "bids.util.jsondecode(fullfile(pwd, 'output', 'dataset_description.json'))"
   ],
   "outputs": [
    {
     "output_type": "stream",
     "name": "stdout",
     "text": [
      "ans =\n",
      "\n",
      "  scalar structure containing the fields:\n",
      "\n",
      "    Name = test\n",
      "    BIDSVersion = 1.6\n",
      "    DatasetType = raw\n",
      "    License = \n",
      "    Acknowledgements = \n",
      "    HowToAcknowledge = \n",
      "    DatasetDOI = \n",
      "    HEDVersion = \n",
      "    Funding = [](0x0)\n",
      "    Authors = [](0x0)\n",
      "    ReferencesAndLinks = [](0x0)\n",
      "\n"
     ]
    }
   ],
   "metadata": {}
  }
 ],
 "metadata": {
  "kernelspec": {
   "display_name": "Octave",
   "language": "octave",
   "name": "octave"
  },
  "language_info": {
   "file_extension": ".m",
   "help_links": [
    {
     "text": "GNU Octave",
     "url": "https://www.gnu.org/software/octave/support.html"
    },
    {
     "text": "Octave Kernel",
     "url": "https://github.com/Calysto/octave_kernel"
    },
    {
     "text": "MetaKernel Magics",
     "url": "https://metakernel.readthedocs.io/en/latest/source/README.html"
    }
   ],
   "mimetype": "text/x-octave",
   "name": "octave",
   "version": "4.2.2"
  }
 },
 "nbformat": 4,
 "nbformat_minor": 5
}
