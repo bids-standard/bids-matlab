{
 "cells": [
  {
   "cell_type": "markdown",
   "id": "6d502f01",
   "metadata": {},
   "source": [
    "# BIDS-Matlab: TSV and JSON files\n",
    "\n",
    "(C) Copyright 2021 BIDS-MATLAB developers\n",
    "\n",
    "## Read from TSV files\n",
    "\n",
    "This can be done with the `bids.util.tsvread` function."
   ]
  },
  {
   "cell_type": "code",
   "execution_count": null,
   "id": "92b7a41a",
   "metadata": {},
   "outputs": [],
   "source": [
    "add_bids_matlab_to_path();"
   ]
  },
  {
   "cell_type": "code",
   "execution_count": null,
   "id": "1ec10866",
   "metadata": {},
   "outputs": [],
   "source": [
    "BIDS = bids.layout(fullfile(pwd,'bids-examples','ieeg_visual'));"
   ]
  },
  {
   "cell_type": "code",
   "execution_count": null,
   "id": "59ed8d9a",
   "metadata": {},
   "outputs": [],
   "source": [
    "bids.query(BIDS, 'subjects');\n",
    "bids.query(BIDS, 'tasks');\n",
    "events_file = bids.query(BIDS, 'data', 'sub', '01', 'task', 'visual', 'suffix', 'events');"
   ]
  },
  {
   "cell_type": "code",
   "execution_count": null,
   "id": "8d605782",
   "metadata": {},
   "outputs": [],
   "source": [
    "bids.util.tsvread(events_file{1});"
   ]
  },
  {
   "cell_type": "markdown",
   "id": "ebe684a3",
   "metadata": {},
   "source": [
    "## Write to TSV files"
   ]
  },
  {
   "cell_type": "code",
   "execution_count": null,
   "id": "e36c8029",
   "metadata": {},
   "outputs": [],
   "source": [
    "tsv_file = fullfile(pwd, 'output', 'sub-01_task-STRUCTURE_events.tsv');\n",
    "\n",
    "logFile.onset = [2; NaN];\n",
    "logFile.trial_type = {'motion_up'; 'static'};\n",
    "logFile.duration = [1; 4];\n",
    "logFile.speed = [NaN; 4];\n",
    "logFile.is_fixation = {'true'; '3'};\n",
    "\n",
    "bids.util.tsvwrite(tsv_file, logFile);"
   ]
  },
  {
   "cell_type": "code",
   "execution_count": null,
   "id": "a5214322",
   "metadata": {},
   "outputs": [],
   "source": [
    "!cat output/sub-01_task-STRUCTURE_events.tsv"
   ]
  },
  {
   "cell_type": "markdown",
   "id": "792e2f13",
   "metadata": {},
   "source": [
    "## Write to JSON files"
   ]
  },
  {
   "cell_type": "code",
   "execution_count": null,
   "id": "abc73827",
   "metadata": {},
   "outputs": [],
   "source": [
    "content = struct(  'Name', 'test', ...\n",
    "                   'BIDSVersion', '1.6', ...\n",
    "                   'DatasetType', 'raw', ...\n",
    "                   'License', '', ...\n",
    "                   'Acknowledgements', '', ...\n",
    "                   'HowToAcknowledge', '', ...\n",
    "                   'DatasetDOI', '', ...\n",
    "                   'HEDVersion', '', ...\n",
    "                   'Funding', {{}}, ...\n",
    "                   'Authors', {{}}, ...\n",
    "                   'ReferencesAndLinks', {{}});\n",
    "\n",
    "bids.util.jsonencode(fullfile(pwd, 'output', 'dataset_description.json'), content);"
   ]
  },
  {
   "cell_type": "code",
   "execution_count": null,
   "id": "daae43aa",
   "metadata": {},
   "outputs": [],
   "source": [
    "!cat output/dataset_description.json"
   ]
  },
  {
   "cell_type": "markdown",
   "id": "ea84dfb0",
   "metadata": {},
   "source": [
    "## Read from JSON files"
   ]
  },
  {
   "cell_type": "code",
   "execution_count": null,
   "id": "ae689e2a",
   "metadata": {},
   "outputs": [],
   "source": [
    "bids.util.jsondecode(fullfile(pwd, 'output', 'dataset_description.json'));"
   ]
  }
 ],
 "metadata": {
  "kernelspec": {
   "display_name": "Octave",
   "language": "octave",
   "name": "octave"
  },
  "language_info": {
   "file_extension": ".m",
   "help_links": [
    {
     "text": "GNU Octave",
     "url": "https://www.gnu.org/software/octave/support.html"
    },
    {
     "text": "Octave Kernel",
     "url": "https://github.com/Calysto/octave_kernel"
    },
    {
     "text": "MetaKernel Magics",
     "url": "https://metakernel.readthedocs.io/en/latest/source/README.html"
    }
   ],
   "mimetype": "text/x-octave",
   "name": "octave",
   "version": "4.2.2"
  }
 },
 "nbformat": 4,
 "nbformat_minor": 5
}
