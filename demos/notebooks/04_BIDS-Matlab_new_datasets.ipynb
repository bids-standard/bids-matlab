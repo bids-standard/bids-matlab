{
 "cells": [
  {
   "cell_type": "markdown",
   "metadata": {},
   "source": [
    "# Create filenames, filepaths, and JSON\n"
   ]
  },
  {
   "cell_type": "code",
   "execution_count": 1,
   "metadata": {},
   "outputs": [],
   "source": [
    "% add bids-matlab to path\n",
    "addpath(fullfile(pwd, '..'));"
   ]
  },
  {
   "cell_type": "markdown",
   "metadata": {},
   "source": [
    "## Intialising a new BIDS dataset"
   ]
  },
  {
   "cell_type": "markdown",
   "metadata": {},
   "source": [
    "This can be useful when you are going to output your analysis or your data acquisition into a new dataset."
   ]
  },
  {
   "cell_type": "code",
   "execution_count": null,
   "metadata": {},
   "outputs": [],
   "source": [
    "help bids.init"
   ]
  },
  {
   "cell_type": "markdown",
   "metadata": {},
   "source": [
    "Derivatives datasets have some extra info in their `dataset_description.json`.\n",
    "\n",
    "If you are going to curate the dataset with [Datalad](http://handbook.datalad.org/en/latest/), you can also mention it and this will modify the README to add extra info about this (taken from the datalad handbook)."
   ]
  },
  {
   "cell_type": "code",
   "execution_count": 2,
   "metadata": {},
   "outputs": [],
   "source": [
    "is_derivative = true;\n",
    "is_datalad_ds = true;"
   ]
  },
  {
   "cell_type": "code",
   "execution_count": 3,
   "metadata": {},
   "outputs": [],
   "source": [
    "pth = fullfile(pwd, 'dummy_ds');\n",
    "\n",
    "folders.subjects = {'01', '02'};\n",
    "folders.sessions = {'pre', 'post'};\n",
    "folders.modalities = {'anat', 'eeg'};"
   ]
  },
  {
   "cell_type": "code",
   "execution_count": 4,
   "metadata": {},
   "outputs": [],
   "source": [
    "bids.init(pth, folders, is_derivative, is_datalad_ds)"
   ]
  },
  {
   "cell_type": "code",
   "execution_count": 5,
   "metadata": {},
   "outputs": [
    {
     "name": "stdout",
     "output_type": "stream",
     "text": [
      "\u001b[01;34mdummy_ds\u001b[00m\n",
      "├── CHANGES\n",
      "├── dataset_description.json\n",
      "├── README\n",
      "├── \u001b[01;34msub-01\u001b[00m\n",
      "│   ├── \u001b[01;34mses-post\u001b[00m\n",
      "│   │   ├── \u001b[01;34manat\u001b[00m\n",
      "│   │   └── \u001b[01;34meeg\u001b[00m\n",
      "│   └── \u001b[01;34mses-pre\u001b[00m\n",
      "│       ├── \u001b[01;34manat\u001b[00m\n",
      "│       └── \u001b[01;34meeg\u001b[00m\n",
      "└── \u001b[01;34msub-02\u001b[00m\n",
      "    ├── \u001b[01;34mses-post\u001b[00m\n",
      "    │   ├── \u001b[01;34manat\u001b[00m\n",
      "    │   └── \u001b[01;34meeg\u001b[00m\n",
      "    └── \u001b[01;34mses-pre\u001b[00m\n",
      "        ├── \u001b[01;34manat\u001b[00m\n",
      "        └── \u001b[01;34meeg\u001b[00m\n",
      "\n",
      "14 directories, 3 files\n",
      "\n"
     ]
    }
   ],
   "source": [
    "!tree dummy_ds"
   ]
  },
  {
   "cell_type": "markdown",
   "metadata": {},
   "source": [
    "Template README was generated."
   ]
  },
  {
   "cell_type": "code",
   "execution_count": null,
   "metadata": {},
   "outputs": [],
   "source": [
    "!cat dummy_ds/README"
   ]
  },
  {
   "cell_type": "code",
   "execution_count": 1,
   "metadata": {},
   "outputs": [
    {
     "name": "stdout",
     "output_type": "stream",
     "text": [
      "{\n",
      "  \"Name\": \"\",\n",
      "  \"BIDSVersion\": \"\",\n",
      "  \"DatasetType\": \"derivative\",\n",
      "  \"License\": \"\",\n",
      "  \"Acknowledgements\": \"\",\n",
      "  \"HowToAcknowledge\": \"\",\n",
      "  \"DatasetDOI\": \"\",\n",
      "  \"HEDVersion\": \"\",\n",
      "  \"Funding\": [],\n",
      "  \"Authors\": [],\n",
      "  \"ReferencesAndLinks\": [],\n",
      "  \"GeneratedBy\": [\n",
      "    {\n",
      "      \"Name\": \"\",\n",
      "      \"Version\": \"\",\n",
      "      \"Description\": \"\",\n",
      "      \"CodeURL\": \"\",\n",
      "      \"Container\": {\n",
      "        \"Type\": \"\",\n",
      "        \"Tag\": \"\"\n",
      "      }\n",
      "    }\n",
      "  ],\n",
      "  \"SourceDatasets\": [\n",
      "    {\n",
      "      \"DOI\": \"\",\n",
      "      \"URL\": \"\",\n",
      "      \"Version\": \"\"\n",
      "    }\n",
      "  ]\n",
      "}\n"
     ]
    }
   ],
   "source": [
    "!cat dummy_ds/dataset_description.json"
   ]
  }
 ],
 "metadata": {
  "kernelspec": {
   "display_name": "Octave",
   "language": "octave",
   "name": "octave"
  },
  "language_info": {
   "file_extension": ".m",
   "help_links": [
    {
     "text": "GNU Octave",
     "url": "https://www.gnu.org/software/octave/support.html"
    },
    {
     "text": "Octave Kernel",
     "url": "https://github.com/Calysto/octave_kernel"
    },
    {
     "text": "MetaKernel Magics",
     "url": "https://metakernel.readthedocs.io/en/latest/source/README.html"
    }
   ],
   "mimetype": "text/x-octave",
   "name": "octave",
   "version": "4.2.2"
  }
 },
 "nbformat": 4,
 "nbformat_minor": 4
}
