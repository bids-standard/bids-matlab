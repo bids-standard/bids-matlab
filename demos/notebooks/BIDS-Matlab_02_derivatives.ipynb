{
 "cells": [
  {
   "cell_type": "markdown",
   "metadata": {
    "tags": []
   },
   "source": [
    "# BIDS-Matlab: derivatives\n",
    "\n",
    "(C) Copyright 2021 BIDS-MATLAB developers"
   ]
  },
  {
   "cell_type": "code",
   "execution_count": null,
   "metadata": {},
   "outputs": [],
   "source": [
    "add_bids_matlab_to_path();"
   ]
  },
  {
   "cell_type": "markdown",
   "metadata": {},
   "source": [
    "## Indexing derivatives\n",
    "\n",
    "Let's work on an `fmriprep` dataset.\n",
    "\n",
    "To work with derivatives data, we must ignore the BIDS schema for indexing."
   ]
  },
  {
   "cell_type": "code",
   "execution_count": null,
   "metadata": {
    "scrolled": true
   },
   "outputs": [],
   "source": [
    "use_schema = false();\n",
    "\n",
    "BIDS = bids.layout(fullfile(pwd, 'bids-examples', 'ds000001-fmriprep'), ...\n",
    "                   'use_schema', false);"
   ]
  },
  {
   "cell_type": "code",
   "execution_count": null,
   "metadata": {
    "tags": []
   },
   "outputs": [],
   "source": [
    "modalities = bids.query(BIDS, 'modalities');\n",
    "disp(modalities);"
   ]
  },
  {
   "cell_type": "markdown",
   "metadata": {},
   "source": [
    "The dataset description `DatasetType` confirms we are working with a derivative dataset."
   ]
  },
  {
   "cell_type": "code",
   "execution_count": null,
   "metadata": {
    "tags": []
   },
   "outputs": [],
   "source": [
    "disp(BIDS.description);"
   ]
  },
  {
   "cell_type": "markdown",
   "metadata": {},
   "source": [
    "We can access any preprocessed data by querying\n",
    "for data described (`desc` entity) as preprocessed (`preproc`)\n",
    "and maybe also in which `space` we want to work in."
   ]
  },
  {
   "cell_type": "code",
   "execution_count": null,
   "metadata": {
    "tags": []
   },
   "outputs": [],
   "source": [
    "data = bids.query(BIDS, 'data', 'modality', 'anat',  'desc', 'preproc', 'space', 'MNI152NLin2009cAsym');\n",
    "disp(data);"
   ]
  },
  {
   "cell_type": "markdown",
   "metadata": {},
   "source": [
    "\n",
    "But we can also get the surface data from Freesurfer.\n"
   ]
  },
  {
   "cell_type": "code",
   "execution_count": null,
   "metadata": {
    "tags": []
   },
   "outputs": [],
   "source": [
    "data = bids.query(BIDS, 'data', 'sub', '10', 'modality', 'func', 'space', 'fsaverage5');\n",
    "disp(data);"
   ]
  },
  {
   "cell_type": "code",
   "execution_count": null,
   "metadata": {
    "tags": []
   },
   "outputs": [],
   "source": [
    "data = bids.query(BIDS, 'data', 'sub', '10', 'desc', 'confounds');\n",
    "disp(data);"
   ]
  },
  {
   "cell_type": "markdown",
   "metadata": {},
   "source": [
    "We can also directly look up json files when we don't use the BIDS schema."
   ]
  },
  {
   "cell_type": "code",
   "execution_count": null,
   "metadata": {
    "tags": []
   },
   "outputs": [],
   "source": [
    "extensions = bids.query(BIDS, 'extensions');\n",
    "disp(extensions);"
   ]
  },
  {
   "cell_type": "code",
   "execution_count": null,
   "metadata": {
    "tags": []
   },
   "outputs": [],
   "source": [
    "filter.sub = '10';\n",
    "data = bids.query(BIDS, 'data', filter);\n",
    "disp(data);"
   ]
  },
  {
   "cell_type": "code",
   "execution_count": null,
   "metadata": {
    "tags": []
   },
   "outputs": [],
   "source": [
    "filter.space = 'MNI152NLin2009cAsym';\n",
    "filter.desc = 'preproc';\n",
    "filter.run = '3';\n",
    "metadata = bids.query(BIDS, 'metadata', filter);\n",
    "disp(metadata);"
   ]
  },
  {
   "cell_type": "markdown",
   "metadata": {},
   "source": [
    "## Indexing nested derivatives"
   ]
  },
  {
   "cell_type": "code",
   "execution_count": null,
   "metadata": {},
   "outputs": [],
   "source": [
    "BIDS = bids.layout(fullfile(pwd,'bids-examples', 'ds000117'), ...\n",
    "                   'use_schema', false, ...\n",
    "                   'index_derivatives', true);"
   ]
  },
  {
   "cell_type": "code",
   "execution_count": null,
   "metadata": {},
   "outputs": [],
   "source": [
    "bids.query(BIDS.derivatives.meg_derivatives, 'subjects');"
   ]
  },
  {
   "cell_type": "markdown",
   "metadata": {
    "tags": []
   },
   "source": [
    "## Copying a raw dataset to start a new analysis\n",
    "\n",
    "Let's work on an `fmriprep` dataset.\n",
    "\n",
    "To work with derivatives data, we must ignore the BIDS schema for indexing."
   ]
  },
  {
   "cell_type": "code",
   "execution_count": null,
   "metadata": {},
   "outputs": [],
   "source": [
    "dataset = fullfile(pwd, 'bids-examples', 'qmri_vfa');\n",
    "\n",
    "output_path = fullfile(pwd, 'output')\n",
    "\n",
    "filter =  struct('modality', 'anat');\n",
    "\n",
    "pipeline_name = 'SPM12';\n",
    "\n",
    "bids.copy_to_derivative(dataset, ...\n",
    "                        'pipeline_name', pipeline_name, ...\n",
    "                        'out_path', output_path, ...\n",
    "                        'filter', filter, ...\n",
    "                        'force', true, ...\n",
    "                        'unzip', false, ...\n",
    "                        'verbose', true);"
   ]
  },
  {
   "cell_type": "code",
   "execution_count": null,
   "metadata": {},
   "outputs": [],
   "source": [
    "BIDS = bids.layout(fullfile(output_path, 'SPM12'));\n",
    "BIDS.description.GeneratedBy;"
   ]
  }
 ],
 "metadata": {
  "kernelspec": {
   "display_name": "Octave",
   "language": "octave",
   "name": "octave"
  },
  "language_info": {
   "file_extension": ".m",
   "help_links": [
    {
     "text": "GNU Octave",
     "url": "https://www.gnu.org/software/octave/support.html"
    },
    {
     "text": "Octave Kernel",
     "url": "https://github.com/Calysto/octave_kernel"
    },
    {
     "text": "MetaKernel Magics",
     "url": "https://metakernel.readthedocs.io/en/latest/source/README.html"
    }
   ],
   "mimetype": "text/x-octave",
   "name": "octave",
   "version": "4.2.2"
  }
 },
 "nbformat": 4,
 "nbformat_minor": 4
}
