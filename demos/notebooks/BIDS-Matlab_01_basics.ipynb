{
 "cells": [
  {
   "cell_type": "markdown",
   "metadata": {
    "tags": []
   },
   "source": [
    "# BIDS-Matlab: basics\n",
    "\n",
    "(C) Copyright 2021 BIDS-MATLAB developers"
   ]
  },
  {
   "cell_type": "code",
   "execution_count": null,
   "metadata": {},
   "outputs": [],
   "source": [
    "add_bids_matlab_to_path();"
   ]
  },
  {
   "cell_type": "markdown",
   "metadata": {},
   "source": [
    "We will work with the \"empty\" dataset\n",
    "from the bids-examples repository :\n",
    "https://github.com/bids-standard/bids-examples"
   ]
  },
  {
   "cell_type": "markdown",
   "metadata": {},
   "source": [
    "We use a bit of command line magic to view the top (`head`) directories (`-d`) at a certain level depth (`-L 2`)."
   ]
  },
  {
   "cell_type": "markdown",
   "metadata": {},
   "source": [
    "Let's work on the `ds101` dataset."
   ]
  },
  {
   "cell_type": "code",
   "execution_count": null,
   "metadata": {
    "scrolled": true
   },
   "outputs": [],
   "source": [
    "!tree bids-examples/ds101 -d -L 2 | head"
   ]
  },
  {
   "cell_type": "markdown",
   "metadata": {},
   "source": [
    "## Indexing a dataset\n",
    "\n",
    "This is done with the `bids.layout` function."
   ]
  },
  {
   "cell_type": "code",
   "execution_count": null,
   "metadata": {},
   "outputs": [],
   "source": [
    "help bids.layout"
   ]
  },
  {
   "cell_type": "code",
   "execution_count": null,
   "metadata": {
    "scrolled": true
   },
   "outputs": [],
   "source": [
    "BIDS = bids.layout(fullfile(pwd,'bids-examples','ds101'));"
   ]
  },
  {
   "cell_type": "markdown",
   "metadata": {},
   "source": [
    "## Querying a dataset\n",
    "\n",
    "Make general queries about the dataset are with `bids.query` made on the layout returned by `bids.layout`."
   ]
  },
  {
   "cell_type": "code",
   "execution_count": null,
   "metadata": {},
   "outputs": [],
   "source": [
    "help bids.query"
   ]
  },
  {
   "cell_type": "code",
   "execution_count": null,
   "metadata": {},
   "outputs": [],
   "source": [
    "entities = bids.query(BIDS, 'entities');\n",
    "disp(entities);"
   ]
  },
  {
   "cell_type": "code",
   "execution_count": null,
   "metadata": {},
   "outputs": [],
   "source": [
    "subjects = bids.query(BIDS, 'subjects');\n",
    "disp(subjects);"
   ]
  },
  {
   "cell_type": "code",
   "execution_count": null,
   "metadata": {},
   "outputs": [],
   "source": [
    "sessions = bids.query(BIDS,'sessions');\n",
    "disp(sessions);"
   ]
  },
  {
   "cell_type": "code",
   "execution_count": null,
   "metadata": {},
   "outputs": [],
   "source": [
    "runs = bids.query(BIDS, 'runs');\n",
    "disp(runs);"
   ]
  },
  {
   "cell_type": "code",
   "execution_count": null,
   "metadata": {},
   "outputs": [],
   "source": [
    "tasks = bids.query(BIDS, 'tasks');\n",
    "disp(tasks);"
   ]
  },
  {
   "cell_type": "code",
   "execution_count": null,
   "metadata": {},
   "outputs": [],
   "source": [
    "suffixes = bids.query(BIDS, 'suffixes');\n",
    "disp(suffixes);"
   ]
  },
  {
   "cell_type": "code",
   "execution_count": null,
   "metadata": {},
   "outputs": [],
   "source": [
    "modalities = bids.query(BIDS, 'modalities');\n",
    "disp(modalities);"
   ]
  },
  {
   "cell_type": "code",
   "execution_count": null,
   "metadata": {},
   "outputs": [],
   "source": [
    "% Make more specific queries\n",
    "runs = bids.query(BIDS, 'runs', 'suffix', 'T1w');\n",
    "disp(runs);"
   ]
  },
  {
   "cell_type": "code",
   "execution_count": null,
   "metadata": {},
   "outputs": [],
   "source": [
    "runs = bids.query(BIDS, 'runs', 'suffix', 'bold');\n",
    "disp(runs);"
   ]
  },
  {
   "cell_type": "markdown",
   "metadata": {},
   "source": [
    "### Get filenames"
   ]
  },
  {
   "cell_type": "markdown",
   "metadata": {},
   "source": [
    "Get the NIfTI file for subject `'05'`, run `'02'` and task `'Simontask'`:"
   ]
  },
  {
   "cell_type": "code",
   "execution_count": null,
   "metadata": {
    "scrolled": true
   },
   "outputs": [],
   "source": [
    "data = bids.query(BIDS, 'data', 'sub', '05', 'run', '02', 'task', 'Simontask', 'suffix', 'bold');\n",
    "disp(data);"
   ]
  },
  {
   "cell_type": "markdown",
   "metadata": {},
   "source": [
    " Note that for the entities listed below can be queried using integers:\n",
    " - `'run'`\n",
    " - `'flip'`\n",
    " - `'inv'`\n",
    " - `'split'`\n",
    " - `'echo'`"
   ]
  },
  {
   "cell_type": "markdown",
   "metadata": {},
   "source": [
    "This can be also done by creating a structure that can be used as a library."
   ]
  },
  {
   "cell_type": "code",
   "execution_count": null,
   "metadata": {},
   "outputs": [],
   "source": [
    "filter = struct(...\n",
    "    'sub','05', ...\n",
    "    'run', 1:3, ...\n",
    "    'task','Simontask', ...\n",
    "    'suffix','bold');"
   ]
  },
  {
   "cell_type": "code",
   "execution_count": null,
   "metadata": {},
   "outputs": [],
   "source": [
    "data = bids.query(BIDS, 'data', filter);\n",
    "disp(data);"
   ]
  },
  {
   "cell_type": "markdown",
   "metadata": {},
   "source": [
    "You can also query data from several labels or indices"
   ]
  },
  {
   "cell_type": "code",
   "execution_count": null,
   "metadata": {},
   "outputs": [],
   "source": [
    "filter.sub = {'01', '03'}"
   ]
  },
  {
   "cell_type": "code",
   "execution_count": null,
   "metadata": {},
   "outputs": [],
   "source": [
    "data = bids.query(BIDS, 'data', filter);\n",
    "disp(data);"
   ]
  },
  {
   "cell_type": "markdown",
   "metadata": {},
   "source": [
    "### Get metadata"
   ]
  },
  {
   "cell_type": "markdown",
   "metadata": {},
   "source": [
    "We can also get the metadata of that file including TR:"
   ]
  },
  {
   "cell_type": "code",
   "execution_count": null,
   "metadata": {},
   "outputs": [],
   "source": [
    "metadata = bids.query(BIDS, 'metadata', filter);\n",
    "disp(metadata);"
   ]
  },
  {
   "cell_type": "markdown",
   "metadata": {},
   "source": [
    "Get the T1-weighted images from all subjects:"
   ]
  },
  {
   "cell_type": "code",
   "execution_count": null,
   "metadata": {},
   "outputs": [],
   "source": [
    "data = bids.query(BIDS, 'data', 'suffix', 'T1w');\n",
    "disp(data);"
   ]
  },
  {
   "cell_type": "markdown",
   "metadata": {},
   "source": [
    "### Get \"dependencies\" of a given file"
   ]
  },
  {
   "cell_type": "markdown",
   "metadata": {},
   "source": [
    "This can be useful to find the files that are associated with the file you just queried.\n",
    "\n",
    "In this case the events file for a BOLD run."
   ]
  },
  {
   "cell_type": "code",
   "execution_count": null,
   "metadata": {
    "scrolled": true
   },
   "outputs": [],
   "source": [
    "filter = struct('sub','05', ...\n",
    "                'run','02', ...\n",
    "                'task','Simontask', ...\n",
    "                'suffix','bold');\n",
    "    \n",
    "dependencies = bids.query(BIDS, 'dependencies', filter);\n",
    "disp(dependencies);"
   ]
  },
  {
   "cell_type": "markdown",
   "metadata": {},
   "source": [
    "### Using regular expressions"
   ]
  },
  {
   "cell_type": "markdown",
   "metadata": {},
   "source": [
    "When using `bids.query` it is possible to use regular expressions. "
   ]
  },
  {
   "cell_type": "code",
   "execution_count": null,
   "metadata": {},
   "outputs": [],
   "source": [
    "filter = struct('sub','0[1-5]', ...\n",
    "                'run','02', ...\n",
    "                'task','Simon*', ...\n",
    "                'suffix','bold');\n",
    "    \n",
    "filter = struct('sub','0[1-3]', ...\n",
    "                'run','02', ...\n",
    "                'task','Sim.*', ...\n",
    "                'suffix','bold');    \n",
    "    \n",
    "data = bids.query(BIDS, 'data', filter);\n",
    "disp(data);  "
   ]
  }
 ],
 "metadata": {
  "kernelspec": {
   "display_name": "Octave",
   "language": "octave",
   "name": "octave"
  },
  "language_info": {
   "file_extension": ".m",
   "help_links": [
    {
     "text": "GNU Octave",
     "url": "https://www.gnu.org/software/octave/support.html"
    },
    {
     "text": "Octave Kernel",
     "url": "https://github.com/Calysto/octave_kernel"
    },
    {
     "text": "MetaKernel Magics",
     "url": "https://metakernel.readthedocs.io/en/latest/source/README.html"
    }
   ],
   "mimetype": "text/x-octave",
   "name": "octave",
   "version": "6.4.0"
  }
 },
 "nbformat": 4,
 "nbformat_minor": 4
}
