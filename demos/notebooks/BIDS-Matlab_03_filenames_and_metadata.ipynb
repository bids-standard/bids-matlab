{
 "cells": [
  {
   "cell_type": "markdown",
   "metadata": {},
   "source": [
    "# Create filenames, filepaths, and JSON\n",
    "\n",
    "(C) Copyright 2021 BIDS-MATLAB developers"
   ]
  },
  {
   "cell_type": "code",
   "execution_count": null,
   "metadata": {},
   "outputs": [],
   "source": [
    "add_bids_matlab_to_path();"
   ]
  },
  {
   "cell_type": "markdown",
   "metadata": {},
   "source": [
    "## Generating filenames\n",
    "\n",
    "The vast majority of BIDS filenames have the following pattern:\n",
    "\n",
    "- a series of `entity-label` pairs separated by `_`\n",
    "- a final `_suffix`\n",
    "- a file `.extension`\n",
    "- pseudo \"regular expression\" : `entity-label(_entity-label)+_suffix.extension`\n",
    "\n",
    "`entity`, `label`, `suffix`, `extension` are alphanumeric only (no special character): `([a-zA-Z0-9])+`\n",
    "\n",
    "  - For example, suffixes can be `T1w` or `bold` but not `T1w_skullstripped` (no underscore allowed).\n",
    "\n",
    "Entity and label are separated by a dash: `entity-label --> ([a-zA-Z0-9])+-([a-zA-Z0-9])+`\n",
    "  \n",
    "  - For example, you can have: `sub-01` but not `sub-01-blind`\n",
    "\n",
    "Entity-label pairs are separated by an underscore:\n",
    "\n",
    "  `entity-label(_entity-label)+ --> ([a-zA-Z0-9])+-([a-zA-Z0-9])+(_([a-zA-Z0-9])+-([a-zA-Z0-9])+)+`\n",
    "\n",
    "**Prefixes are not a thing in official BIDS names**\n",
    "\n",
    "\n",
    "BIDS has a number of \n",
    "[officially recognised entities](https://bids-specification.readthedocs.io/en/stable/99-appendices/04-entity-table.html) \n",
    "(`sub`, `ses`, `task`...) that must come in a specific order for each suffix.\n",
    "\n",
    "BIDS derivatives adds a few more entities (`desc`, `space`, `res`...) \n",
    "and suffixes (`pseg`, `dseg`, `mask`...) \n",
    "that can be used to name and describe preprocessed data."
   ]
  },
  {
   "cell_type": "markdown",
   "metadata": {},
   "source": [
    "The `bids.File` class can help generate BIDS valid file names."
   ]
  },
  {
   "cell_type": "code",
   "execution_count": null,
   "metadata": {},
   "outputs": [],
   "source": [
    "input = struct('ext', '.nii');\n",
    "input.suffix = 'bold';\n",
    "input.entities = struct('sub', '01', ...\n",
    "                        'task', 'faceRecognition', ...\n",
    "                        'run', '02', ...\n",
    "                        'ses', 'test');"
   ]
  },
  {
   "cell_type": "code",
   "execution_count": null,
   "metadata": {},
   "outputs": [],
   "source": [
    "file = bids.File(input);\n",
    "\n",
    "file.filename;"
   ]
  },
  {
   "cell_type": "markdown",
   "metadata": {},
   "source": [
    "You can rely on the BIDS schema to know in which order the entities must go for a certain `suffix` type. "
   ]
  },
  {
   "cell_type": "code",
   "execution_count": null,
   "metadata": {},
   "outputs": [],
   "source": [
    "file = bids.File(input, 'use_schema', true);\n",
    "\n",
    "file.filename;"
   ]
  },
  {
   "cell_type": "markdown",
   "metadata": {},
   "source": [
    "This can also tell you if you are missing a required entity if you set `tolerant` to `false`."
   ]
  },
  {
   "cell_type": "code",
   "execution_count": null,
   "metadata": {
    "scrolled": true
   },
   "outputs": [],
   "source": [
    "input = struct('ext', '.nii');\n",
    "input.suffix = 'bold';\n",
    "input.entities = struct('sub', '01', ...\n",
    "                        'ses', 'test', ...\n",
    "                        'run', '02');\n",
    "\n",
    "% uncomment the line below to see the error\n",
    "% file = bids.File(input, 'use_schema', true, 'tolerant', false);\n"
   ]
  },
  {
   "cell_type": "markdown",
   "metadata": {},
   "source": [
    "Or you can specify the order of the entities manually."
   ]
  },
  {
   "cell_type": "code",
   "execution_count": null,
   "metadata": {},
   "outputs": [],
   "source": [
    "input = struct('ext', '.nii');\n",
    "input.suffix = 'bold';\n",
    "input.entities = struct('sub', '01', ...\n",
    "                        'task', 'face recognition', ...\n",
    "                        'run', '02', ...\n",
    "                        'ses', 'test');\n",
    "file = bids.File(input);\n",
    "\n",
    "entity_order = {'run', 'sub', 'ses'};\n",
    "\n",
    "file = file.reorder_entities(entity_order);\n",
    "file.filename;\n"
   ]
  },
  {
   "cell_type": "markdown",
   "metadata": {},
   "source": [
    "## Modifying filenames"
   ]
  },
  {
   "cell_type": "markdown",
   "metadata": {},
   "source": [
    "This can be used:\n",
    "- to add, remove, modify any of the entities\n",
    "- change the suffix\n",
    "- change the extensions\n",
    "- add or remove any prefix\n"
   ]
  },
  {
   "cell_type": "code",
   "execution_count": null,
   "metadata": {},
   "outputs": [],
   "source": [
    "input = 'sub-01_ses-mri_T1w.nii';\n",
    "file = bids.File(input, 'use_schema', false);\n",
    "\n",
    "file.suffix = 'mask';\n",
    "file.entities.ses = '';\n",
    "file.entities.desc = 'brain';\n",
    "\n",
    "file.filename;"
   ]
  },
  {
   "cell_type": "markdown",
   "metadata": {},
   "source": [
    "## Generating file names for derivatives"
   ]
  },
  {
   "cell_type": "markdown",
   "metadata": {},
   "source": [
    "This can also be useful to remove the prefix of some files."
   ]
  },
  {
   "cell_type": "code",
   "execution_count": null,
   "metadata": {},
   "outputs": [],
   "source": [
    "input = 'wuasub-01_ses-test_task-faceRecognition_run-02_bold.nii';\n",
    "\n",
    "file = bids.File(input, 'use_schema', false);\n",
    "file.prefix = '';\n",
    "file.entities.space = 'IXI549Space';\n",
    "file.entities.desc = 'preproc';\n",
    "\n",
    "file.filename;"
   ]
  },
  {
   "cell_type": "markdown",
   "metadata": {},
   "source": [
    "This can prove useful to get a dummy json that should accompany any derivatives files."
   ]
  },
  {
   "cell_type": "code",
   "execution_count": null,
   "metadata": {},
   "outputs": [],
   "source": [
    "json = bids.derivatives_json(file.filename);\n",
    "\n",
    "json.filename;\n",
    "json.content;"
   ]
  },
  {
   "cell_type": "markdown",
   "metadata": {},
   "source": [
    "The content of the JSON should adapt depending on the entities or suffix present in the output filename."
   ]
  },
  {
   "cell_type": "code",
   "execution_count": null,
   "metadata": {},
   "outputs": [],
   "source": [
    "json = bids.derivatives_json('sub-01_ses-test_task-faceRecognition_res-r2pt0_space-IXI549Space_desc-brain_mask.nii')\n",
    "json.filename;\n",
    "json.content;\n",
    "json.content.Resolution{1}{1};"
   ]
  }
 ],
 "metadata": {
  "kernelspec": {
   "display_name": "Octave",
   "language": "octave",
   "name": "octave"
  },
  "language_info": {
   "file_extension": ".m",
   "help_links": [
    {
     "text": "GNU Octave",
     "url": "https://www.gnu.org/software/octave/support.html"
    },
    {
     "text": "Octave Kernel",
     "url": "https://github.com/Calysto/octave_kernel"
    },
    {
     "text": "MetaKernel Magics",
     "url": "https://metakernel.readthedocs.io/en/latest/source/README.html"
    }
   ],
   "mimetype": "text/x-octave",
   "name": "octave",
   "version": "4.2.2"
  }
 },
 "nbformat": 4,
 "nbformat_minor": 4
}
